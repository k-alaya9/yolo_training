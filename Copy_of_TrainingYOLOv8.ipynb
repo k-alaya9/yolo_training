{
  "cells": [
    {
      "cell_type": "markdown",
      "metadata": {
        "id": "view-in-github",
        "colab_type": "text"
      },
      "source": [
        "<a href=\"https://colab.research.google.com/github/k-alaya9/yolo_training/blob/main/Copy_of_TrainingYOLOv8.ipynb\" target=\"_parent\"><img src=\"https://colab.research.google.com/assets/colab-badge.svg\" alt=\"Open In Colab\"/></a>"
      ]
    },
    {
      "cell_type": "markdown",
      "metadata": {
        "id": "GGIxasERRXto"
      },
      "source": [
        "# Training YOLOv8"
      ]
    },
    {
      "cell_type": "markdown",
      "metadata": {
        "id": "DiArnwAfS1Kb"
      },
      "source": [
        "## Prepare Data:\n",
        "\n",
        "1.   Option 1: Download suitable data from websites like [kaggle](https://www.kaggle.com)\n",
        "2.   Option 2: Manually prepare data using solutions like:\n",
        "*   [Makesense](https://www.makesense.ai)\n",
        "*   [Roboflow](https://roboflow.com)\n",
        "\n",
        ">These websites allow you to edit each image to include bounding box and labels to objects, and export them in a format suitable for YOLO training.\n",
        "\n",
        "\n"
      ]
    },
    {
      "cell_type": "markdown",
      "metadata": {
        "id": "7i2H11gwTriq"
      },
      "source": [
        "\n",
        "Chess Pieces Dataset: https://www.kaggle.com/datasets/imtkaggleteam/chess-pieces-detection-image-dataset\n",
        "\n",
        "## Folders Organization:\n",
        "* train:\n",
        "  * images\n",
        "  * labels\n",
        "* test :\n",
        "  * images\n",
        "  * labels\n",
        "* valid:\n",
        "  * images\n",
        "  * labels\n",
        "\n",
        "> The data must be saved in these specified folders format. When referencing the root path, the data then will be accessed automatically using these paths."
      ]
    },
    {
      "cell_type": "markdown",
      "metadata": {
        "id": "AogtDCkOYqSY"
      },
      "source": [
        "### YAML file:\n",
        "\n",
        "- The `data.yaml` file should be in the same directory as the previous files.\n",
        "\n",
        "### YAML File Foramt:\n",
        "\n",
        "    path: (absolute path to data)\n",
        "\n",
        "    train: train/images\n",
        "    val: valid/images\n",
        "    test: test/images\n",
        "\n",
        "    names:\n",
        "      0: bishop\n",
        "      1: black-bishop\n",
        "      2: black-king\n",
        "      ..."
      ]
    },
    {
      "cell_type": "markdown",
      "metadata": {
        "id": "WtGrr4jpga3V"
      },
      "source": [
        "### Download Pakckages:\n",
        "\n",
        "\n",
        "*   First we need to install the `ultralytics` library that supports YOLO models\n",
        "\n",
        "\n",
        "##### >> Note When Training Locally :\n",
        "> ##### By default, The ultralytics install torch without GPU suppot. To use GPU for training, Download cuda version from [pytorch](https://pytorch.org)\n",
        "\n"
      ]
    },
    {
      "cell_type": "code",
      "execution_count": null,
      "metadata": {
        "colab": {
          "base_uri": "https://localhost:8080/"
        },
        "collapsed": true,
        "id": "em_j6fZtgESQ",
        "outputId": "aa35e570-685e-4630-e281-777a2f4a2bef"
      },
      "outputs": [
        {
          "output_type": "stream",
          "name": "stdout",
          "text": [
            "Collecting ultralytics\n",
            "  Downloading ultralytics-8.3.140-py3-none-any.whl.metadata (37 kB)\n",
            "Requirement already satisfied: numpy>=1.23.0 in /usr/local/lib/python3.11/dist-packages (from ultralytics) (2.0.2)\n",
            "Requirement already satisfied: matplotlib>=3.3.0 in /usr/local/lib/python3.11/dist-packages (from ultralytics) (3.10.0)\n",
            "Requirement already satisfied: opencv-python>=4.6.0 in /usr/local/lib/python3.11/dist-packages (from ultralytics) (4.11.0.86)\n",
            "Requirement already satisfied: pillow>=7.1.2 in /usr/local/lib/python3.11/dist-packages (from ultralytics) (11.2.1)\n",
            "Requirement already satisfied: pyyaml>=5.3.1 in /usr/local/lib/python3.11/dist-packages (from ultralytics) (6.0.2)\n",
            "Requirement already satisfied: requests>=2.23.0 in /usr/local/lib/python3.11/dist-packages (from ultralytics) (2.32.3)\n",
            "Requirement already satisfied: scipy>=1.4.1 in /usr/local/lib/python3.11/dist-packages (from ultralytics) (1.15.3)\n",
            "Requirement already satisfied: torch>=1.8.0 in /usr/local/lib/python3.11/dist-packages (from ultralytics) (2.6.0+cu124)\n",
            "Requirement already satisfied: torchvision>=0.9.0 in /usr/local/lib/python3.11/dist-packages (from ultralytics) (0.21.0+cu124)\n",
            "Requirement already satisfied: tqdm>=4.64.0 in /usr/local/lib/python3.11/dist-packages (from ultralytics) (4.67.1)\n",
            "Requirement already satisfied: psutil in /usr/local/lib/python3.11/dist-packages (from ultralytics) (5.9.5)\n",
            "Requirement already satisfied: py-cpuinfo in /usr/local/lib/python3.11/dist-packages (from ultralytics) (9.0.0)\n",
            "Requirement already satisfied: pandas>=1.1.4 in /usr/local/lib/python3.11/dist-packages (from ultralytics) (2.2.2)\n",
            "Collecting ultralytics-thop>=2.0.0 (from ultralytics)\n",
            "  Downloading ultralytics_thop-2.0.14-py3-none-any.whl.metadata (9.4 kB)\n",
            "Requirement already satisfied: contourpy>=1.0.1 in /usr/local/lib/python3.11/dist-packages (from matplotlib>=3.3.0->ultralytics) (1.3.2)\n",
            "Requirement already satisfied: cycler>=0.10 in /usr/local/lib/python3.11/dist-packages (from matplotlib>=3.3.0->ultralytics) (0.12.1)\n",
            "Requirement already satisfied: fonttools>=4.22.0 in /usr/local/lib/python3.11/dist-packages (from matplotlib>=3.3.0->ultralytics) (4.58.0)\n",
            "Requirement already satisfied: kiwisolver>=1.3.1 in /usr/local/lib/python3.11/dist-packages (from matplotlib>=3.3.0->ultralytics) (1.4.8)\n",
            "Requirement already satisfied: packaging>=20.0 in /usr/local/lib/python3.11/dist-packages (from matplotlib>=3.3.0->ultralytics) (24.2)\n",
            "Requirement already satisfied: pyparsing>=2.3.1 in /usr/local/lib/python3.11/dist-packages (from matplotlib>=3.3.0->ultralytics) (3.2.3)\n",
            "Requirement already satisfied: python-dateutil>=2.7 in /usr/local/lib/python3.11/dist-packages (from matplotlib>=3.3.0->ultralytics) (2.9.0.post0)\n",
            "Requirement already satisfied: pytz>=2020.1 in /usr/local/lib/python3.11/dist-packages (from pandas>=1.1.4->ultralytics) (2025.2)\n",
            "Requirement already satisfied: tzdata>=2022.7 in /usr/local/lib/python3.11/dist-packages (from pandas>=1.1.4->ultralytics) (2025.2)\n",
            "Requirement already satisfied: charset-normalizer<4,>=2 in /usr/local/lib/python3.11/dist-packages (from requests>=2.23.0->ultralytics) (3.4.2)\n",
            "Requirement already satisfied: idna<4,>=2.5 in /usr/local/lib/python3.11/dist-packages (from requests>=2.23.0->ultralytics) (3.10)\n",
            "Requirement already satisfied: urllib3<3,>=1.21.1 in /usr/local/lib/python3.11/dist-packages (from requests>=2.23.0->ultralytics) (2.4.0)\n",
            "Requirement already satisfied: certifi>=2017.4.17 in /usr/local/lib/python3.11/dist-packages (from requests>=2.23.0->ultralytics) (2025.4.26)\n",
            "Requirement already satisfied: filelock in /usr/local/lib/python3.11/dist-packages (from torch>=1.8.0->ultralytics) (3.18.0)\n",
            "Requirement already satisfied: typing-extensions>=4.10.0 in /usr/local/lib/python3.11/dist-packages (from torch>=1.8.0->ultralytics) (4.13.2)\n",
            "Requirement already satisfied: networkx in /usr/local/lib/python3.11/dist-packages (from torch>=1.8.0->ultralytics) (3.4.2)\n",
            "Requirement already satisfied: jinja2 in /usr/local/lib/python3.11/dist-packages (from torch>=1.8.0->ultralytics) (3.1.6)\n",
            "Requirement already satisfied: fsspec in /usr/local/lib/python3.11/dist-packages (from torch>=1.8.0->ultralytics) (2025.3.2)\n",
            "Collecting nvidia-cuda-nvrtc-cu12==12.4.127 (from torch>=1.8.0->ultralytics)\n",
            "  Downloading nvidia_cuda_nvrtc_cu12-12.4.127-py3-none-manylinux2014_x86_64.whl.metadata (1.5 kB)\n",
            "Collecting nvidia-cuda-runtime-cu12==12.4.127 (from torch>=1.8.0->ultralytics)\n",
            "  Downloading nvidia_cuda_runtime_cu12-12.4.127-py3-none-manylinux2014_x86_64.whl.metadata (1.5 kB)\n",
            "Collecting nvidia-cuda-cupti-cu12==12.4.127 (from torch>=1.8.0->ultralytics)\n",
            "  Downloading nvidia_cuda_cupti_cu12-12.4.127-py3-none-manylinux2014_x86_64.whl.metadata (1.6 kB)\n",
            "Collecting nvidia-cudnn-cu12==9.1.0.70 (from torch>=1.8.0->ultralytics)\n",
            "  Downloading nvidia_cudnn_cu12-9.1.0.70-py3-none-manylinux2014_x86_64.whl.metadata (1.6 kB)\n",
            "Collecting nvidia-cublas-cu12==12.4.5.8 (from torch>=1.8.0->ultralytics)\n",
            "  Downloading nvidia_cublas_cu12-12.4.5.8-py3-none-manylinux2014_x86_64.whl.metadata (1.5 kB)\n",
            "Collecting nvidia-cufft-cu12==11.2.1.3 (from torch>=1.8.0->ultralytics)\n",
            "  Downloading nvidia_cufft_cu12-11.2.1.3-py3-none-manylinux2014_x86_64.whl.metadata (1.5 kB)\n",
            "Collecting nvidia-curand-cu12==10.3.5.147 (from torch>=1.8.0->ultralytics)\n",
            "  Downloading nvidia_curand_cu12-10.3.5.147-py3-none-manylinux2014_x86_64.whl.metadata (1.5 kB)\n",
            "Collecting nvidia-cusolver-cu12==11.6.1.9 (from torch>=1.8.0->ultralytics)\n",
            "  Downloading nvidia_cusolver_cu12-11.6.1.9-py3-none-manylinux2014_x86_64.whl.metadata (1.6 kB)\n",
            "Collecting nvidia-cusparse-cu12==12.3.1.170 (from torch>=1.8.0->ultralytics)\n",
            "  Downloading nvidia_cusparse_cu12-12.3.1.170-py3-none-manylinux2014_x86_64.whl.metadata (1.6 kB)\n",
            "Requirement already satisfied: nvidia-cusparselt-cu12==0.6.2 in /usr/local/lib/python3.11/dist-packages (from torch>=1.8.0->ultralytics) (0.6.2)\n",
            "Requirement already satisfied: nvidia-nccl-cu12==2.21.5 in /usr/local/lib/python3.11/dist-packages (from torch>=1.8.0->ultralytics) (2.21.5)\n",
            "Requirement already satisfied: nvidia-nvtx-cu12==12.4.127 in /usr/local/lib/python3.11/dist-packages (from torch>=1.8.0->ultralytics) (12.4.127)\n",
            "Collecting nvidia-nvjitlink-cu12==12.4.127 (from torch>=1.8.0->ultralytics)\n",
            "  Downloading nvidia_nvjitlink_cu12-12.4.127-py3-none-manylinux2014_x86_64.whl.metadata (1.5 kB)\n",
            "Requirement already satisfied: triton==3.2.0 in /usr/local/lib/python3.11/dist-packages (from torch>=1.8.0->ultralytics) (3.2.0)\n",
            "Requirement already satisfied: sympy==1.13.1 in /usr/local/lib/python3.11/dist-packages (from torch>=1.8.0->ultralytics) (1.13.1)\n",
            "Requirement already satisfied: mpmath<1.4,>=1.1.0 in /usr/local/lib/python3.11/dist-packages (from sympy==1.13.1->torch>=1.8.0->ultralytics) (1.3.0)\n",
            "Requirement already satisfied: six>=1.5 in /usr/local/lib/python3.11/dist-packages (from python-dateutil>=2.7->matplotlib>=3.3.0->ultralytics) (1.17.0)\n",
            "Requirement already satisfied: MarkupSafe>=2.0 in /usr/local/lib/python3.11/dist-packages (from jinja2->torch>=1.8.0->ultralytics) (3.0.2)\n",
            "Downloading ultralytics-8.3.140-py3-none-any.whl (1.0 MB)\n",
            "\u001b[2K   \u001b[90m━━━━━━━━━━━━━━━━━━━━━━━━━━━━━━━━━━━━━━━━\u001b[0m \u001b[32m1.0/1.0 MB\u001b[0m \u001b[31m17.4 MB/s\u001b[0m eta \u001b[36m0:00:00\u001b[0m\n",
            "\u001b[?25hDownloading nvidia_cublas_cu12-12.4.5.8-py3-none-manylinux2014_x86_64.whl (363.4 MB)\n",
            "\u001b[2K   \u001b[90m━━━━━━━━━━━━━━━━━━━━━━━━━━━━━━━━━━━━━━━━\u001b[0m \u001b[32m363.4/363.4 MB\u001b[0m \u001b[31m4.2 MB/s\u001b[0m eta \u001b[36m0:00:00\u001b[0m\n",
            "\u001b[?25hDownloading nvidia_cuda_cupti_cu12-12.4.127-py3-none-manylinux2014_x86_64.whl (13.8 MB)\n",
            "\u001b[2K   \u001b[90m━━━━━━━━━━━━━━━━━━━━━━━━━━━━━━━━━━━━━━━━\u001b[0m \u001b[32m13.8/13.8 MB\u001b[0m \u001b[31m120.8 MB/s\u001b[0m eta \u001b[36m0:00:00\u001b[0m\n",
            "\u001b[?25hDownloading nvidia_cuda_nvrtc_cu12-12.4.127-py3-none-manylinux2014_x86_64.whl (24.6 MB)\n",
            "\u001b[2K   \u001b[90m━━━━━━━━━━━━━━━━━━━━━━━━━━━━━━━━━━━━━━━━\u001b[0m \u001b[32m24.6/24.6 MB\u001b[0m \u001b[31m87.7 MB/s\u001b[0m eta \u001b[36m0:00:00\u001b[0m\n",
            "\u001b[?25hDownloading nvidia_cuda_runtime_cu12-12.4.127-py3-none-manylinux2014_x86_64.whl (883 kB)\n",
            "\u001b[2K   \u001b[90m━━━━━━━━━━━━━━━━━━━━━━━━━━━━━━━━━━━━━━━━\u001b[0m \u001b[32m883.7/883.7 kB\u001b[0m \u001b[31m54.6 MB/s\u001b[0m eta \u001b[36m0:00:00\u001b[0m\n",
            "\u001b[?25hDownloading nvidia_cudnn_cu12-9.1.0.70-py3-none-manylinux2014_x86_64.whl (664.8 MB)\n",
            "\u001b[2K   \u001b[90m━━━━━━━━━━━━━━━━━━━━━━━━━━━━━━━━━━━━━━━━\u001b[0m \u001b[32m664.8/664.8 MB\u001b[0m \u001b[31m2.6 MB/s\u001b[0m eta \u001b[36m0:00:00\u001b[0m\n",
            "\u001b[?25hDownloading nvidia_cufft_cu12-11.2.1.3-py3-none-manylinux2014_x86_64.whl (211.5 MB)\n",
            "\u001b[2K   \u001b[90m━━━━━━━━━━━━━━━━━━━━━━━━━━━━━━━━━━━━━━━━\u001b[0m \u001b[32m211.5/211.5 MB\u001b[0m \u001b[31m5.7 MB/s\u001b[0m eta \u001b[36m0:00:00\u001b[0m\n",
            "\u001b[?25hDownloading nvidia_curand_cu12-10.3.5.147-py3-none-manylinux2014_x86_64.whl (56.3 MB)\n",
            "\u001b[2K   \u001b[90m━━━━━━━━━━━━━━━━━━━━━━━━━━━━━━━━━━━━━━━━\u001b[0m \u001b[32m56.3/56.3 MB\u001b[0m \u001b[31m13.2 MB/s\u001b[0m eta \u001b[36m0:00:00\u001b[0m\n",
            "\u001b[?25hDownloading nvidia_cusolver_cu12-11.6.1.9-py3-none-manylinux2014_x86_64.whl (127.9 MB)\n",
            "\u001b[2K   \u001b[90m━━━━━━━━━━━━━━━━━━━━━━━━━━━━━━━━━━━━━━━━\u001b[0m \u001b[32m127.9/127.9 MB\u001b[0m \u001b[31m7.4 MB/s\u001b[0m eta \u001b[36m0:00:00\u001b[0m\n",
            "\u001b[?25hDownloading nvidia_cusparse_cu12-12.3.1.170-py3-none-manylinux2014_x86_64.whl (207.5 MB)\n",
            "\u001b[2K   \u001b[90m━━━━━━━━━━━━━━━━━━━━━━━━━━━━━━━━━━━━━━━━\u001b[0m \u001b[32m207.5/207.5 MB\u001b[0m \u001b[31m5.6 MB/s\u001b[0m eta \u001b[36m0:00:00\u001b[0m\n",
            "\u001b[?25hDownloading nvidia_nvjitlink_cu12-12.4.127-py3-none-manylinux2014_x86_64.whl (21.1 MB)\n",
            "\u001b[2K   \u001b[90m━━━━━━━━━━━━━━━━━━━━━━━━━━━━━━━━━━━━━━━━\u001b[0m \u001b[32m21.1/21.1 MB\u001b[0m \u001b[31m95.7 MB/s\u001b[0m eta \u001b[36m0:00:00\u001b[0m\n",
            "\u001b[?25hDownloading ultralytics_thop-2.0.14-py3-none-any.whl (26 kB)\n",
            "Installing collected packages: nvidia-nvjitlink-cu12, nvidia-curand-cu12, nvidia-cufft-cu12, nvidia-cuda-runtime-cu12, nvidia-cuda-nvrtc-cu12, nvidia-cuda-cupti-cu12, nvidia-cublas-cu12, nvidia-cusparse-cu12, nvidia-cudnn-cu12, nvidia-cusolver-cu12, ultralytics-thop, ultralytics\n",
            "  Attempting uninstall: nvidia-nvjitlink-cu12\n",
            "    Found existing installation: nvidia-nvjitlink-cu12 12.5.82\n",
            "    Uninstalling nvidia-nvjitlink-cu12-12.5.82:\n",
            "      Successfully uninstalled nvidia-nvjitlink-cu12-12.5.82\n",
            "  Attempting uninstall: nvidia-curand-cu12\n",
            "    Found existing installation: nvidia-curand-cu12 10.3.6.82\n",
            "    Uninstalling nvidia-curand-cu12-10.3.6.82:\n",
            "      Successfully uninstalled nvidia-curand-cu12-10.3.6.82\n",
            "  Attempting uninstall: nvidia-cufft-cu12\n",
            "    Found existing installation: nvidia-cufft-cu12 11.2.3.61\n",
            "    Uninstalling nvidia-cufft-cu12-11.2.3.61:\n",
            "      Successfully uninstalled nvidia-cufft-cu12-11.2.3.61\n",
            "  Attempting uninstall: nvidia-cuda-runtime-cu12\n",
            "    Found existing installation: nvidia-cuda-runtime-cu12 12.5.82\n",
            "    Uninstalling nvidia-cuda-runtime-cu12-12.5.82:\n",
            "      Successfully uninstalled nvidia-cuda-runtime-cu12-12.5.82\n",
            "  Attempting uninstall: nvidia-cuda-nvrtc-cu12\n",
            "    Found existing installation: nvidia-cuda-nvrtc-cu12 12.5.82\n",
            "    Uninstalling nvidia-cuda-nvrtc-cu12-12.5.82:\n",
            "      Successfully uninstalled nvidia-cuda-nvrtc-cu12-12.5.82\n",
            "  Attempting uninstall: nvidia-cuda-cupti-cu12\n",
            "    Found existing installation: nvidia-cuda-cupti-cu12 12.5.82\n",
            "    Uninstalling nvidia-cuda-cupti-cu12-12.5.82:\n",
            "      Successfully uninstalled nvidia-cuda-cupti-cu12-12.5.82\n",
            "  Attempting uninstall: nvidia-cublas-cu12\n",
            "    Found existing installation: nvidia-cublas-cu12 12.5.3.2\n",
            "    Uninstalling nvidia-cublas-cu12-12.5.3.2:\n",
            "      Successfully uninstalled nvidia-cublas-cu12-12.5.3.2\n",
            "  Attempting uninstall: nvidia-cusparse-cu12\n",
            "    Found existing installation: nvidia-cusparse-cu12 12.5.1.3\n",
            "    Uninstalling nvidia-cusparse-cu12-12.5.1.3:\n",
            "      Successfully uninstalled nvidia-cusparse-cu12-12.5.1.3\n",
            "  Attempting uninstall: nvidia-cudnn-cu12\n",
            "    Found existing installation: nvidia-cudnn-cu12 9.3.0.75\n",
            "    Uninstalling nvidia-cudnn-cu12-9.3.0.75:\n",
            "      Successfully uninstalled nvidia-cudnn-cu12-9.3.0.75\n",
            "  Attempting uninstall: nvidia-cusolver-cu12\n",
            "    Found existing installation: nvidia-cusolver-cu12 11.6.3.83\n",
            "    Uninstalling nvidia-cusolver-cu12-11.6.3.83:\n",
            "      Successfully uninstalled nvidia-cusolver-cu12-11.6.3.83\n",
            "Successfully installed nvidia-cublas-cu12-12.4.5.8 nvidia-cuda-cupti-cu12-12.4.127 nvidia-cuda-nvrtc-cu12-12.4.127 nvidia-cuda-runtime-cu12-12.4.127 nvidia-cudnn-cu12-9.1.0.70 nvidia-cufft-cu12-11.2.1.3 nvidia-curand-cu12-10.3.5.147 nvidia-cusolver-cu12-11.6.1.9 nvidia-cusparse-cu12-12.3.1.170 nvidia-nvjitlink-cu12-12.4.127 ultralytics-8.3.140 ultralytics-thop-2.0.14\n"
          ]
        }
      ],
      "source": [
        "!pip install ultralytics"
      ]
    },
    {
      "cell_type": "markdown",
      "metadata": {
        "id": "6vodVVfpcBMO"
      },
      "source": [
        "### Working With Colab\n",
        "- we need to mount the drive to access the data\n",
        "- or simply upload your data to the colab notebook"
      ]
    },
    {
      "cell_type": "code",
      "source": [
        "from google.colab import drive\n",
        "drive.mount('/content/drive')"
      ],
      "metadata": {
        "colab": {
          "base_uri": "https://localhost:8080/"
        },
        "id": "vkggWSvdDay2",
        "outputId": "b62bbf70-34e2-4106-fb72-059410164b98"
      },
      "execution_count": null,
      "outputs": [
        {
          "output_type": "stream",
          "name": "stdout",
          "text": [
            "Mounted at /content/drive\n"
          ]
        }
      ]
    },
    {
      "cell_type": "code",
      "source": [
        "!mv /content/drive/MyDrive/label /content/"
      ],
      "metadata": {
        "id": "au9eU_73D50u"
      },
      "execution_count": null,
      "outputs": []
    },
    {
      "cell_type": "code",
      "source": [
        "!mv /content/train/images_1 /content/val"
      ],
      "metadata": {
        "id": "Tn-0-H5-Fxpc"
      },
      "execution_count": null,
      "outputs": []
    },
    {
      "cell_type": "code",
      "execution_count": null,
      "metadata": {
        "id": "xD9wIi9-CowY"
      },
      "outputs": [],
      "source": [
        "ROOT_DIR = \"/content/\""
      ]
    },
    {
      "cell_type": "markdown",
      "metadata": {
        "id": "1-Otvpq-T_Gx"
      },
      "source": [
        "## Training\n",
        "\n",
        "\n",
        "![yolov8 options.PNG](data:image/png;base64,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)\n"
      ]
    },
    {
      "cell_type": "markdown",
      "metadata": {
        "id": "Ri5Hi_DsXauc"
      },
      "source": [
        "##### Training from scratch:\n",
        "- You can do so by passing the \".yaml\" file of the yolo version you want to train.\n",
        "\n",
        "##### Custom training:\n",
        "- Instead of the \".yaml\" file, you need to use the \".pt\" file, which include the trained weights\n",
        "- locally, you need to download the \".pt\" file of your chosen version and size of the yolo model to reference it\n",
        "- In google colab, the file is auto downloaded if not found\n",
        "\n",
        ">The \"n, s, m, l, x\" symbols stand for the size of the model:\n",
        "- small model -> faster prediction and less accuracy\n",
        "- large model -> slower prediction and higher accuracy"
      ]
    },
    {
      "cell_type": "code",
      "execution_count": null,
      "metadata": {
        "colab": {
          "base_uri": "https://localhost:8080/"
        },
        "id": "vwNxfXLqDzQY",
        "outputId": "7086a50a-ff95-4cf3-b4a4-0734e6c7ae2c"
      },
      "outputs": [
        {
          "output_type": "stream",
          "name": "stdout",
          "text": [
            "Ultralytics 8.3.140 🚀 Python-3.11.12 torch-2.6.0+cu124 CUDA:0 (Tesla T4, 15095MiB)\n",
            "\u001b[34m\u001b[1mengine/trainer: \u001b[0magnostic_nms=False, amp=True, augment=False, auto_augment=randaugment, batch=16, bgr=0.0, box=7.5, cache=False, cfg=None, classes=None, close_mosaic=10, cls=0.5, conf=None, copy_paste=0.0, copy_paste_mode=flip, cos_lr=False, cutmix=0.0, data=/content/data.yaml, degrees=0.0, deterministic=True, device=-1, dfl=1.5, dnn=False, dropout=0.0, dynamic=False, embed=None, epochs=100, erasing=0.4, exist_ok=False, fliplr=0.5, flipud=0.0, format=torchscript, fraction=1.0, freeze=None, half=False, hsv_h=0.015, hsv_s=0.7, hsv_v=0.4, imgsz=640, int8=False, iou=0.7, keras=False, kobj=1.0, line_width=None, lr0=0.01, lrf=0.01, mask_ratio=4, max_det=300, mixup=0.0, mode=train, model=yolov8n.pt, momentum=0.937, mosaic=1.0, multi_scale=False, name=train8, nbs=64, nms=False, opset=None, optimize=False, optimizer=auto, overlap_mask=True, patience=100, perspective=0.0, plots=True, pose=12.0, pretrained=True, profile=False, project=None, rect=False, resume=False, retina_masks=False, save=True, save_conf=False, save_crop=False, save_dir=runs/detect/train8, save_frames=False, save_json=False, save_period=-1, save_txt=False, scale=0.5, seed=0, shear=0.0, show=False, show_boxes=True, show_conf=True, show_labels=True, simplify=True, single_cls=False, source=None, split=val, stream_buffer=False, task=detect, time=None, tracker=botsort.yaml, translate=0.1, val=True, verbose=True, vid_stride=1, visualize=False, warmup_bias_lr=0.1, warmup_epochs=3.0, warmup_momentum=0.8, weight_decay=0.0005, workers=8, workspace=None\n",
            "Overriding model.yaml nc=80 with nc=1\n",
            "\n",
            "                   from  n    params  module                                       arguments                     \n",
            "  0                  -1  1       464  ultralytics.nn.modules.conv.Conv             [3, 16, 3, 2]                 \n",
            "  1                  -1  1      4672  ultralytics.nn.modules.conv.Conv             [16, 32, 3, 2]                \n",
            "  2                  -1  1      7360  ultralytics.nn.modules.block.C2f             [32, 32, 1, True]             \n",
            "  3                  -1  1     18560  ultralytics.nn.modules.conv.Conv             [32, 64, 3, 2]                \n",
            "  4                  -1  2     49664  ultralytics.nn.modules.block.C2f             [64, 64, 2, True]             \n",
            "  5                  -1  1     73984  ultralytics.nn.modules.conv.Conv             [64, 128, 3, 2]               \n",
            "  6                  -1  2    197632  ultralytics.nn.modules.block.C2f             [128, 128, 2, True]           \n",
            "  7                  -1  1    295424  ultralytics.nn.modules.conv.Conv             [128, 256, 3, 2]              \n",
            "  8                  -1  1    460288  ultralytics.nn.modules.block.C2f             [256, 256, 1, True]           \n",
            "  9                  -1  1    164608  ultralytics.nn.modules.block.SPPF            [256, 256, 5]                 \n",
            " 10                  -1  1         0  torch.nn.modules.upsampling.Upsample         [None, 2, 'nearest']          \n",
            " 11             [-1, 6]  1         0  ultralytics.nn.modules.conv.Concat           [1]                           \n",
            " 12                  -1  1    148224  ultralytics.nn.modules.block.C2f             [384, 128, 1]                 \n",
            " 13                  -1  1         0  torch.nn.modules.upsampling.Upsample         [None, 2, 'nearest']          \n",
            " 14             [-1, 4]  1         0  ultralytics.nn.modules.conv.Concat           [1]                           \n",
            " 15                  -1  1     37248  ultralytics.nn.modules.block.C2f             [192, 64, 1]                  \n",
            " 16                  -1  1     36992  ultralytics.nn.modules.conv.Conv             [64, 64, 3, 2]                \n",
            " 17            [-1, 12]  1         0  ultralytics.nn.modules.conv.Concat           [1]                           \n",
            " 18                  -1  1    123648  ultralytics.nn.modules.block.C2f             [192, 128, 1]                 \n",
            " 19                  -1  1    147712  ultralytics.nn.modules.conv.Conv             [128, 128, 3, 2]              \n",
            " 20             [-1, 9]  1         0  ultralytics.nn.modules.conv.Concat           [1]                           \n",
            " 21                  -1  1    493056  ultralytics.nn.modules.block.C2f             [384, 256, 1]                 \n",
            " 22        [15, 18, 21]  1    751507  ultralytics.nn.modules.head.Detect           [1, [64, 128, 256]]           \n",
            "Model summary: 129 layers, 3,011,043 parameters, 3,011,027 gradients, 8.2 GFLOPs\n",
            "\n",
            "Transferred 319/355 items from pretrained weights\n",
            "Freezing layer 'model.22.dfl.conv.weight'\n",
            "\u001b[34m\u001b[1mAMP: \u001b[0mrunning Automatic Mixed Precision (AMP) checks...\n",
            "\u001b[34m\u001b[1mAMP: \u001b[0mchecks passed ✅\n",
            "\u001b[34m\u001b[1mtrain: \u001b[0mFast image access ✅ (ping: 0.0±0.0 ms, read: 2752.2±757.7 MB/s, size: 776.4 KB)\n"
          ]
        },
        {
          "output_type": "stream",
          "name": "stderr",
          "text": [
            "\u001b[34m\u001b[1mtrain: \u001b[0mScanning /content/train/labels.cache... 32 images, 1 backgrounds, 0 corrupt: 100%|██████████| 33/33 [00:00<?, ?it/s]"
          ]
        },
        {
          "output_type": "stream",
          "name": "stdout",
          "text": [
            "\u001b[34m\u001b[1malbumentations: \u001b[0mBlur(p=0.01, blur_limit=(3, 7)), MedianBlur(p=0.01, blur_limit=(3, 7)), ToGray(p=0.01, method='weighted_average', num_output_channels=3), CLAHE(p=0.01, clip_limit=(1.0, 4.0), tile_grid_size=(8, 8))\n"
          ]
        },
        {
          "output_type": "stream",
          "name": "stderr",
          "text": [
            "\n"
          ]
        },
        {
          "output_type": "stream",
          "name": "stdout",
          "text": [
            "\u001b[34m\u001b[1mval: \u001b[0mFast image access ✅ (ping: 0.0±0.0 ms, read: 2225.5±1370.2 MB/s, size: 995.0 KB)\n"
          ]
        },
        {
          "output_type": "stream",
          "name": "stderr",
          "text": [
            "\u001b[34m\u001b[1mval: \u001b[0mScanning /content/val/labels.cache... 32 images, 1 backgrounds, 0 corrupt: 100%|██████████| 33/33 [00:00<?, ?it/s]\n"
          ]
        },
        {
          "output_type": "stream",
          "name": "stdout",
          "text": [
            "Plotting labels to runs/detect/train8/labels.jpg... \n",
            "\u001b[34m\u001b[1moptimizer:\u001b[0m 'optimizer=auto' found, ignoring 'lr0=0.01' and 'momentum=0.937' and determining best 'optimizer', 'lr0' and 'momentum' automatically... \n",
            "\u001b[34m\u001b[1moptimizer:\u001b[0m AdamW(lr=0.002, momentum=0.9) with parameter groups 57 weight(decay=0.0), 64 weight(decay=0.0005), 63 bias(decay=0.0)\n",
            "Image sizes 640 train, 640 val\n",
            "Using 2 dataloader workers\n",
            "Logging results to \u001b[1mruns/detect/train8\u001b[0m\n",
            "Starting training for 100 epochs...\n",
            "\n",
            "      Epoch    GPU_mem   box_loss   cls_loss   dfl_loss  Instances       Size\n"
          ]
        },
        {
          "output_type": "stream",
          "name": "stderr",
          "text": [
            "      1/100      2.19G      1.995      3.269      2.214          1        640: 100%|██████████| 3/3 [00:01<00:00,  2.21it/s]\n",
            "                 Class     Images  Instances      Box(P          R      mAP50  mAP50-95): 100%|██████████| 2/2 [00:00<00:00,  2.78it/s]"
          ]
        },
        {
          "output_type": "stream",
          "name": "stdout",
          "text": [
            "                   all         33         32    0.00323          1      0.131     0.0457\n"
          ]
        },
        {
          "output_type": "stream",
          "name": "stderr",
          "text": [
            "\n"
          ]
        },
        {
          "output_type": "stream",
          "name": "stdout",
          "text": [
            "\n",
            "      Epoch    GPU_mem   box_loss   cls_loss   dfl_loss  Instances       Size\n"
          ]
        },
        {
          "output_type": "stream",
          "name": "stderr",
          "text": [
            "      2/100      2.65G       2.02      3.229      2.109          2        640: 100%|██████████| 3/3 [00:00<00:00,  3.37it/s]\n",
            "                 Class     Images  Instances      Box(P          R      mAP50  mAP50-95): 100%|██████████| 2/2 [00:00<00:00,  3.65it/s]"
          ]
        },
        {
          "output_type": "stream",
          "name": "stdout",
          "text": [
            "                   all         33         32    0.00323          1     0.0878     0.0297\n"
          ]
        },
        {
          "output_type": "stream",
          "name": "stderr",
          "text": [
            "\n"
          ]
        },
        {
          "output_type": "stream",
          "name": "stdout",
          "text": [
            "\n",
            "      Epoch    GPU_mem   box_loss   cls_loss   dfl_loss  Instances       Size\n"
          ]
        },
        {
          "output_type": "stream",
          "name": "stderr",
          "text": [
            "      3/100      2.65G       1.81      2.993      1.979          2        640: 100%|██████████| 3/3 [00:00<00:00,  3.62it/s]\n",
            "                 Class     Images  Instances      Box(P          R      mAP50  mAP50-95): 100%|██████████| 2/2 [00:00<00:00,  5.16it/s]"
          ]
        },
        {
          "output_type": "stream",
          "name": "stdout",
          "text": [
            "                   all         33         32    0.00323          1      0.367      0.155\n"
          ]
        },
        {
          "output_type": "stream",
          "name": "stderr",
          "text": [
            "\n"
          ]
        },
        {
          "output_type": "stream",
          "name": "stdout",
          "text": [
            "\n",
            "      Epoch    GPU_mem   box_loss   cls_loss   dfl_loss  Instances       Size\n"
          ]
        },
        {
          "output_type": "stream",
          "name": "stderr",
          "text": [
            "      4/100      2.65G      1.768      2.406      1.765          2        640: 100%|██████████| 3/3 [00:00<00:00,  4.25it/s]\n",
            "                 Class     Images  Instances      Box(P          R      mAP50  mAP50-95): 100%|██████████| 2/2 [00:00<00:00,  5.46it/s]"
          ]
        },
        {
          "output_type": "stream",
          "name": "stdout",
          "text": [
            "                   all         33         32    0.00323          1      0.679      0.344\n"
          ]
        },
        {
          "output_type": "stream",
          "name": "stderr",
          "text": [
            "\n"
          ]
        },
        {
          "output_type": "stream",
          "name": "stdout",
          "text": [
            "\n",
            "      Epoch    GPU_mem   box_loss   cls_loss   dfl_loss  Instances       Size\n"
          ]
        },
        {
          "output_type": "stream",
          "name": "stderr",
          "text": [
            "      5/100      2.65G      1.408      2.204      1.352          1        640: 100%|██████████| 3/3 [00:00<00:00,  4.05it/s]\n",
            "                 Class     Images  Instances      Box(P          R      mAP50  mAP50-95): 100%|██████████| 2/2 [00:00<00:00,  4.71it/s]"
          ]
        },
        {
          "output_type": "stream",
          "name": "stdout",
          "text": [
            "                   all         33         32          1     0.0911      0.687      0.348\n"
          ]
        },
        {
          "output_type": "stream",
          "name": "stderr",
          "text": [
            "\n"
          ]
        },
        {
          "output_type": "stream",
          "name": "stdout",
          "text": [
            "\n",
            "      Epoch    GPU_mem   box_loss   cls_loss   dfl_loss  Instances       Size\n"
          ]
        },
        {
          "output_type": "stream",
          "name": "stderr",
          "text": [
            "      6/100      2.65G      1.524      2.288      1.724          2        640: 100%|██████████| 3/3 [00:00<00:00,  5.89it/s]\n",
            "                 Class     Images  Instances      Box(P          R      mAP50  mAP50-95): 100%|██████████| 2/2 [00:00<00:00,  3.89it/s]"
          ]
        },
        {
          "output_type": "stream",
          "name": "stdout",
          "text": [
            "                   all         33         32    0.00768      0.969      0.731      0.311\n"
          ]
        },
        {
          "output_type": "stream",
          "name": "stderr",
          "text": [
            "\n"
          ]
        },
        {
          "output_type": "stream",
          "name": "stdout",
          "text": [
            "\n",
            "      Epoch    GPU_mem   box_loss   cls_loss   dfl_loss  Instances       Size\n"
          ]
        },
        {
          "output_type": "stream",
          "name": "stderr",
          "text": [
            "      7/100      2.65G      1.341      2.037      1.614          1        640: 100%|██████████| 3/3 [00:00<00:00,  4.25it/s]\n",
            "                 Class     Images  Instances      Box(P          R      mAP50  mAP50-95): 100%|██████████| 2/2 [00:00<00:00,  4.70it/s]"
          ]
        },
        {
          "output_type": "stream",
          "name": "stdout",
          "text": [
            "                   all         33         32    0.00323          1      0.684      0.268\n"
          ]
        },
        {
          "output_type": "stream",
          "name": "stderr",
          "text": [
            "\n"
          ]
        },
        {
          "output_type": "stream",
          "name": "stdout",
          "text": [
            "\n",
            "      Epoch    GPU_mem   box_loss   cls_loss   dfl_loss  Instances       Size\n"
          ]
        },
        {
          "output_type": "stream",
          "name": "stderr",
          "text": [
            "      8/100      2.65G      1.984      3.101      2.031          1        640: 100%|██████████| 3/3 [00:00<00:00,  4.77it/s]\n",
            "                 Class     Images  Instances      Box(P          R      mAP50  mAP50-95): 100%|██████████| 2/2 [00:00<00:00,  3.58it/s]"
          ]
        },
        {
          "output_type": "stream",
          "name": "stdout",
          "text": [
            "                   all         33         32    0.00323          1      0.764      0.405\n"
          ]
        },
        {
          "output_type": "stream",
          "name": "stderr",
          "text": [
            "\n"
          ]
        },
        {
          "output_type": "stream",
          "name": "stdout",
          "text": [
            "\n",
            "      Epoch    GPU_mem   box_loss   cls_loss   dfl_loss  Instances       Size\n"
          ]
        },
        {
          "output_type": "stream",
          "name": "stderr",
          "text": [
            "      9/100      2.65G      1.412      1.542      1.588          2        640: 100%|██████████| 3/3 [00:00<00:00,  3.26it/s]\n",
            "                 Class     Images  Instances      Box(P          R      mAP50  mAP50-95): 100%|██████████| 2/2 [00:00<00:00,  2.79it/s]"
          ]
        },
        {
          "output_type": "stream",
          "name": "stdout",
          "text": [
            "                   all         33         32    0.00323          1      0.841      0.495\n"
          ]
        },
        {
          "output_type": "stream",
          "name": "stderr",
          "text": [
            "\n"
          ]
        },
        {
          "output_type": "stream",
          "name": "stdout",
          "text": [
            "\n",
            "      Epoch    GPU_mem   box_loss   cls_loss   dfl_loss  Instances       Size\n"
          ]
        },
        {
          "output_type": "stream",
          "name": "stderr",
          "text": [
            "     10/100      2.65G      1.514      1.815      1.635          3        640: 100%|██████████| 3/3 [00:00<00:00,  3.61it/s]\n",
            "                 Class     Images  Instances      Box(P          R      mAP50  mAP50-95): 100%|██████████| 2/2 [00:00<00:00,  3.80it/s]"
          ]
        },
        {
          "output_type": "stream",
          "name": "stdout",
          "text": [
            "                   all         33         32    0.00323          1       0.86      0.508\n"
          ]
        },
        {
          "output_type": "stream",
          "name": "stderr",
          "text": [
            "\n"
          ]
        },
        {
          "output_type": "stream",
          "name": "stdout",
          "text": [
            "\n",
            "      Epoch    GPU_mem   box_loss   cls_loss   dfl_loss  Instances       Size\n"
          ]
        },
        {
          "output_type": "stream",
          "name": "stderr",
          "text": [
            "     11/100      2.65G      1.283      1.565      1.393          4        640: 100%|██████████| 3/3 [00:00<00:00,  4.02it/s]\n",
            "                 Class     Images  Instances      Box(P          R      mAP50  mAP50-95): 100%|██████████| 2/2 [00:00<00:00,  4.65it/s]"
          ]
        },
        {
          "output_type": "stream",
          "name": "stdout",
          "text": [
            "                   all         33         32      0.818      0.423      0.805      0.474\n"
          ]
        },
        {
          "output_type": "stream",
          "name": "stderr",
          "text": [
            "\n"
          ]
        },
        {
          "output_type": "stream",
          "name": "stdout",
          "text": [
            "\n",
            "      Epoch    GPU_mem   box_loss   cls_loss   dfl_loss  Instances       Size\n"
          ]
        },
        {
          "output_type": "stream",
          "name": "stderr",
          "text": [
            "     12/100      2.65G      1.513       1.96      1.808          1        640: 100%|██████████| 3/3 [00:00<00:00,  5.64it/s]\n",
            "                 Class     Images  Instances      Box(P          R      mAP50  mAP50-95): 100%|██████████| 2/2 [00:00<00:00,  5.99it/s]"
          ]
        },
        {
          "output_type": "stream",
          "name": "stdout",
          "text": [
            "                   all         33         32      0.896      0.538      0.842      0.433\n"
          ]
        },
        {
          "output_type": "stream",
          "name": "stderr",
          "text": [
            "\n"
          ]
        },
        {
          "output_type": "stream",
          "name": "stdout",
          "text": [
            "\n",
            "      Epoch    GPU_mem   box_loss   cls_loss   dfl_loss  Instances       Size\n"
          ]
        },
        {
          "output_type": "stream",
          "name": "stderr",
          "text": [
            "     13/100      2.65G      1.173      1.494      1.355          4        640: 100%|██████████| 3/3 [00:01<00:00,  2.10it/s]\n",
            "                 Class     Images  Instances      Box(P          R      mAP50  mAP50-95): 100%|██████████| 2/2 [00:00<00:00,  6.79it/s]"
          ]
        },
        {
          "output_type": "stream",
          "name": "stdout",
          "text": [
            "                   all         33         32      0.789       0.25      0.631      0.196\n"
          ]
        },
        {
          "output_type": "stream",
          "name": "stderr",
          "text": [
            "\n"
          ]
        },
        {
          "output_type": "stream",
          "name": "stdout",
          "text": [
            "\n",
            "      Epoch    GPU_mem   box_loss   cls_loss   dfl_loss  Instances       Size\n"
          ]
        },
        {
          "output_type": "stream",
          "name": "stderr",
          "text": [
            "     14/100      2.65G      1.336      2.288      1.696          1        640: 100%|██████████| 3/3 [00:00<00:00,  4.95it/s]\n",
            "                 Class     Images  Instances      Box(P          R      mAP50  mAP50-95): 100%|██████████| 2/2 [00:00<00:00,  4.51it/s]"
          ]
        },
        {
          "output_type": "stream",
          "name": "stdout",
          "text": [
            "                   all         33         32       0.92      0.361      0.838      0.346\n"
          ]
        },
        {
          "output_type": "stream",
          "name": "stderr",
          "text": [
            "\n"
          ]
        },
        {
          "output_type": "stream",
          "name": "stdout",
          "text": [
            "\n",
            "      Epoch    GPU_mem   box_loss   cls_loss   dfl_loss  Instances       Size\n"
          ]
        },
        {
          "output_type": "stream",
          "name": "stderr",
          "text": [
            "     15/100      2.65G      1.262      2.085      1.441          1        640: 100%|██████████| 3/3 [00:00<00:00,  4.16it/s]\n",
            "                 Class     Images  Instances      Box(P          R      mAP50  mAP50-95): 100%|██████████| 2/2 [00:00<00:00,  5.15it/s]"
          ]
        },
        {
          "output_type": "stream",
          "name": "stdout",
          "text": [
            "                   all         33         32      0.748       0.75      0.756      0.358\n"
          ]
        },
        {
          "output_type": "stream",
          "name": "stderr",
          "text": [
            "\n"
          ]
        },
        {
          "output_type": "stream",
          "name": "stdout",
          "text": [
            "\n",
            "      Epoch    GPU_mem   box_loss   cls_loss   dfl_loss  Instances       Size\n"
          ]
        },
        {
          "output_type": "stream",
          "name": "stderr",
          "text": [
            "     16/100      2.65G      1.617      1.684      1.607          2        640: 100%|██████████| 3/3 [00:00<00:00,  5.09it/s]\n",
            "                 Class     Images  Instances      Box(P          R      mAP50  mAP50-95): 100%|██████████| 2/2 [00:00<00:00,  3.69it/s]"
          ]
        },
        {
          "output_type": "stream",
          "name": "stdout",
          "text": [
            "                   all         33         32      0.916      0.679      0.802      0.393\n"
          ]
        },
        {
          "output_type": "stream",
          "name": "stderr",
          "text": [
            "\n"
          ]
        },
        {
          "output_type": "stream",
          "name": "stdout",
          "text": [
            "\n",
            "      Epoch    GPU_mem   box_loss   cls_loss   dfl_loss  Instances       Size\n"
          ]
        },
        {
          "output_type": "stream",
          "name": "stderr",
          "text": [
            "     17/100      2.65G      1.316      1.721      1.464          2        640: 100%|██████████| 3/3 [00:00<00:00,  3.28it/s]\n",
            "                 Class     Images  Instances      Box(P          R      mAP50  mAP50-95): 100%|██████████| 2/2 [00:00<00:00,  3.25it/s]"
          ]
        },
        {
          "output_type": "stream",
          "name": "stdout",
          "text": [
            "                   all         33         32      0.873      0.431      0.726      0.249\n"
          ]
        },
        {
          "output_type": "stream",
          "name": "stderr",
          "text": [
            "\n"
          ]
        },
        {
          "output_type": "stream",
          "name": "stdout",
          "text": [
            "\n",
            "      Epoch    GPU_mem   box_loss   cls_loss   dfl_loss  Instances       Size\n"
          ]
        },
        {
          "output_type": "stream",
          "name": "stderr",
          "text": [
            "     18/100      2.65G      1.482      1.575      1.492          4        640: 100%|██████████| 3/3 [00:00<00:00,  3.11it/s]\n",
            "                 Class     Images  Instances      Box(P          R      mAP50  mAP50-95): 100%|██████████| 2/2 [00:00<00:00,  2.77it/s]"
          ]
        },
        {
          "output_type": "stream",
          "name": "stdout",
          "text": [
            "                   all         33         32      0.753      0.594      0.654      0.263\n"
          ]
        },
        {
          "output_type": "stream",
          "name": "stderr",
          "text": [
            "\n"
          ]
        },
        {
          "output_type": "stream",
          "name": "stdout",
          "text": [
            "\n",
            "      Epoch    GPU_mem   box_loss   cls_loss   dfl_loss  Instances       Size\n"
          ]
        },
        {
          "output_type": "stream",
          "name": "stderr",
          "text": [
            "     19/100      2.65G      1.377      1.377      1.355          4        640: 100%|██████████| 3/3 [00:00<00:00,  5.17it/s]\n",
            "                 Class     Images  Instances      Box(P          R      mAP50  mAP50-95): 100%|██████████| 2/2 [00:00<00:00,  4.36it/s]"
          ]
        },
        {
          "output_type": "stream",
          "name": "stdout",
          "text": [
            "                   all         33         32      0.779      0.562       0.65      0.259\n"
          ]
        },
        {
          "output_type": "stream",
          "name": "stderr",
          "text": [
            "\n"
          ]
        },
        {
          "output_type": "stream",
          "name": "stdout",
          "text": [
            "\n",
            "      Epoch    GPU_mem   box_loss   cls_loss   dfl_loss  Instances       Size\n"
          ]
        },
        {
          "output_type": "stream",
          "name": "stderr",
          "text": [
            "     20/100      2.65G      1.343      1.565      1.418          3        640: 100%|██████████| 3/3 [00:00<00:00,  4.58it/s]\n",
            "                 Class     Images  Instances      Box(P          R      mAP50  mAP50-95): 100%|██████████| 2/2 [00:00<00:00,  4.45it/s]"
          ]
        },
        {
          "output_type": "stream",
          "name": "stdout",
          "text": [
            "                   all         33         32      0.922      0.656      0.889      0.498\n"
          ]
        },
        {
          "output_type": "stream",
          "name": "stderr",
          "text": [
            "\n"
          ]
        },
        {
          "output_type": "stream",
          "name": "stdout",
          "text": [
            "\n",
            "      Epoch    GPU_mem   box_loss   cls_loss   dfl_loss  Instances       Size\n"
          ]
        },
        {
          "output_type": "stream",
          "name": "stderr",
          "text": [
            "     21/100      2.65G      1.246       1.53      1.457          3        640: 100%|██████████| 3/3 [00:00<00:00,  4.14it/s]\n",
            "                 Class     Images  Instances      Box(P          R      mAP50  mAP50-95): 100%|██████████| 2/2 [00:00<00:00,  5.66it/s]"
          ]
        },
        {
          "output_type": "stream",
          "name": "stdout",
          "text": [
            "                   all         33         32      0.962      0.801      0.949      0.577\n"
          ]
        },
        {
          "output_type": "stream",
          "name": "stderr",
          "text": [
            "\n"
          ]
        },
        {
          "output_type": "stream",
          "name": "stdout",
          "text": [
            "\n",
            "      Epoch    GPU_mem   box_loss   cls_loss   dfl_loss  Instances       Size\n"
          ]
        },
        {
          "output_type": "stream",
          "name": "stderr",
          "text": [
            "     22/100      2.65G      1.206      1.376      1.473          2        640: 100%|██████████| 3/3 [00:00<00:00,  4.47it/s]\n",
            "                 Class     Images  Instances      Box(P          R      mAP50  mAP50-95): 100%|██████████| 2/2 [00:00<00:00,  5.39it/s]"
          ]
        },
        {
          "output_type": "stream",
          "name": "stdout",
          "text": [
            "                   all         33         32      0.961      0.775      0.959      0.535\n"
          ]
        },
        {
          "output_type": "stream",
          "name": "stderr",
          "text": [
            "\n"
          ]
        },
        {
          "output_type": "stream",
          "name": "stdout",
          "text": [
            "\n",
            "      Epoch    GPU_mem   box_loss   cls_loss   dfl_loss  Instances       Size\n"
          ]
        },
        {
          "output_type": "stream",
          "name": "stderr",
          "text": [
            "     23/100      2.65G      1.216       1.27      1.214          2        640: 100%|██████████| 3/3 [00:00<00:00,  4.52it/s]\n",
            "                 Class     Images  Instances      Box(P          R      mAP50  mAP50-95): 100%|██████████| 2/2 [00:00<00:00,  4.94it/s]"
          ]
        },
        {
          "output_type": "stream",
          "name": "stdout",
          "text": [
            "                   all         33         32      0.974       0.75      0.948      0.566\n"
          ]
        },
        {
          "output_type": "stream",
          "name": "stderr",
          "text": [
            "\n"
          ]
        },
        {
          "output_type": "stream",
          "name": "stdout",
          "text": [
            "\n",
            "      Epoch    GPU_mem   box_loss   cls_loss   dfl_loss  Instances       Size\n"
          ]
        },
        {
          "output_type": "stream",
          "name": "stderr",
          "text": [
            "     24/100      2.65G      1.416      1.561      1.597          1        640: 100%|██████████| 3/3 [00:00<00:00,  4.26it/s]\n",
            "                 Class     Images  Instances      Box(P          R      mAP50  mAP50-95): 100%|██████████| 2/2 [00:00<00:00,  4.46it/s]"
          ]
        },
        {
          "output_type": "stream",
          "name": "stdout",
          "text": [
            "                   all         33         32      0.868      0.819      0.874      0.546\n"
          ]
        },
        {
          "output_type": "stream",
          "name": "stderr",
          "text": [
            "\n"
          ]
        },
        {
          "output_type": "stream",
          "name": "stdout",
          "text": [
            "\n",
            "      Epoch    GPU_mem   box_loss   cls_loss   dfl_loss  Instances       Size\n"
          ]
        },
        {
          "output_type": "stream",
          "name": "stderr",
          "text": [
            "     25/100      2.65G      1.179      1.274      1.176          3        640: 100%|██████████| 3/3 [00:00<00:00,  4.38it/s]\n",
            "                 Class     Images  Instances      Box(P          R      mAP50  mAP50-95): 100%|██████████| 2/2 [00:00<00:00,  3.37it/s]"
          ]
        },
        {
          "output_type": "stream",
          "name": "stdout",
          "text": [
            "                   all         33         32      0.785      0.656      0.741      0.367\n"
          ]
        },
        {
          "output_type": "stream",
          "name": "stderr",
          "text": [
            "\n"
          ]
        },
        {
          "output_type": "stream",
          "name": "stdout",
          "text": [
            "\n",
            "      Epoch    GPU_mem   box_loss   cls_loss   dfl_loss  Instances       Size\n"
          ]
        },
        {
          "output_type": "stream",
          "name": "stderr",
          "text": [
            "     26/100      2.65G      1.285      1.818      1.415          1        640: 100%|██████████| 3/3 [00:00<00:00,  3.46it/s]\n",
            "                 Class     Images  Instances      Box(P          R      mAP50  mAP50-95): 100%|██████████| 2/2 [00:00<00:00,  2.68it/s]"
          ]
        },
        {
          "output_type": "stream",
          "name": "stdout",
          "text": [
            "                   all         33         32      0.474      0.594      0.554      0.259\n"
          ]
        },
        {
          "output_type": "stream",
          "name": "stderr",
          "text": [
            "\n"
          ]
        },
        {
          "output_type": "stream",
          "name": "stdout",
          "text": [
            "\n",
            "      Epoch    GPU_mem   box_loss   cls_loss   dfl_loss  Instances       Size\n"
          ]
        },
        {
          "output_type": "stream",
          "name": "stderr",
          "text": [
            "     27/100      2.65G      1.063      1.407      1.219          1        640: 100%|██████████| 3/3 [00:00<00:00,  3.64it/s]\n",
            "                 Class     Images  Instances      Box(P          R      mAP50  mAP50-95): 100%|██████████| 2/2 [00:00<00:00,  4.57it/s]"
          ]
        },
        {
          "output_type": "stream",
          "name": "stdout",
          "text": [
            "                   all         33         32      0.599      0.406      0.504      0.242\n"
          ]
        },
        {
          "output_type": "stream",
          "name": "stderr",
          "text": [
            "\n"
          ]
        },
        {
          "output_type": "stream",
          "name": "stdout",
          "text": [
            "\n",
            "      Epoch    GPU_mem   box_loss   cls_loss   dfl_loss  Instances       Size\n"
          ]
        },
        {
          "output_type": "stream",
          "name": "stderr",
          "text": [
            "     28/100      2.66G      1.253      1.539      1.398          1        640: 100%|██████████| 3/3 [00:00<00:00,  4.18it/s]\n",
            "                 Class     Images  Instances      Box(P          R      mAP50  mAP50-95): 100%|██████████| 2/2 [00:00<00:00,  5.97it/s]"
          ]
        },
        {
          "output_type": "stream",
          "name": "stdout",
          "text": [
            "                   all         33         32      0.584      0.375      0.381      0.169\n"
          ]
        },
        {
          "output_type": "stream",
          "name": "stderr",
          "text": [
            "\n"
          ]
        },
        {
          "output_type": "stream",
          "name": "stdout",
          "text": [
            "\n",
            "      Epoch    GPU_mem   box_loss   cls_loss   dfl_loss  Instances       Size\n"
          ]
        },
        {
          "output_type": "stream",
          "name": "stderr",
          "text": [
            "     29/100      2.66G      1.209      1.478      1.426          2        640: 100%|██████████| 3/3 [00:00<00:00,  4.70it/s]\n",
            "                 Class     Images  Instances      Box(P          R      mAP50  mAP50-95): 100%|██████████| 2/2 [00:00<00:00,  4.59it/s]"
          ]
        },
        {
          "output_type": "stream",
          "name": "stdout",
          "text": [
            "                   all         33         32      0.584      0.375      0.381      0.169\n"
          ]
        },
        {
          "output_type": "stream",
          "name": "stderr",
          "text": [
            "\n"
          ]
        },
        {
          "output_type": "stream",
          "name": "stdout",
          "text": [
            "\n",
            "      Epoch    GPU_mem   box_loss   cls_loss   dfl_loss  Instances       Size\n"
          ]
        },
        {
          "output_type": "stream",
          "name": "stderr",
          "text": [
            "     30/100      2.66G      1.138      1.501      1.406          1        640: 100%|██████████| 3/3 [00:00<00:00,  4.49it/s]\n",
            "                 Class     Images  Instances      Box(P          R      mAP50  mAP50-95): 100%|██████████| 2/2 [00:00<00:00,  5.35it/s]"
          ]
        },
        {
          "output_type": "stream",
          "name": "stdout",
          "text": [
            "                   all         33         32        0.4      0.344       0.36      0.136\n"
          ]
        },
        {
          "output_type": "stream",
          "name": "stderr",
          "text": [
            "\n"
          ]
        },
        {
          "output_type": "stream",
          "name": "stdout",
          "text": [
            "\n",
            "      Epoch    GPU_mem   box_loss   cls_loss   dfl_loss  Instances       Size\n"
          ]
        },
        {
          "output_type": "stream",
          "name": "stderr",
          "text": [
            "     31/100      2.66G      1.071      1.119      1.186          4        640: 100%|██████████| 3/3 [00:00<00:00,  4.96it/s]\n",
            "                 Class     Images  Instances      Box(P          R      mAP50  mAP50-95): 100%|██████████| 2/2 [00:00<00:00,  4.77it/s]"
          ]
        },
        {
          "output_type": "stream",
          "name": "stdout",
          "text": [
            "                   all         33         32      0.363      0.281      0.248     0.0785\n"
          ]
        },
        {
          "output_type": "stream",
          "name": "stderr",
          "text": [
            "\n"
          ]
        },
        {
          "output_type": "stream",
          "name": "stdout",
          "text": [
            "\n",
            "      Epoch    GPU_mem   box_loss   cls_loss   dfl_loss  Instances       Size\n"
          ]
        },
        {
          "output_type": "stream",
          "name": "stderr",
          "text": [
            "     32/100      2.68G       1.22       1.33      1.428          3        640: 100%|██████████| 3/3 [00:00<00:00,  5.42it/s]\n",
            "                 Class     Images  Instances      Box(P          R      mAP50  mAP50-95): 100%|██████████| 2/2 [00:00<00:00,  3.58it/s]"
          ]
        },
        {
          "output_type": "stream",
          "name": "stdout",
          "text": [
            "                   all         33         32      0.319      0.344      0.214     0.0632\n"
          ]
        },
        {
          "output_type": "stream",
          "name": "stderr",
          "text": [
            "\n"
          ]
        },
        {
          "output_type": "stream",
          "name": "stdout",
          "text": [
            "\n",
            "      Epoch    GPU_mem   box_loss   cls_loss   dfl_loss  Instances       Size\n"
          ]
        },
        {
          "output_type": "stream",
          "name": "stderr",
          "text": [
            "     33/100      2.68G      1.288      1.488      1.423          1        640: 100%|██████████| 3/3 [00:00<00:00,  4.76it/s]\n",
            "                 Class     Images  Instances      Box(P          R      mAP50  mAP50-95): 100%|██████████| 2/2 [00:00<00:00,  4.64it/s]"
          ]
        },
        {
          "output_type": "stream",
          "name": "stdout",
          "text": [
            "                   all         33         32      0.319      0.344      0.214     0.0632\n"
          ]
        },
        {
          "output_type": "stream",
          "name": "stderr",
          "text": [
            "\n"
          ]
        },
        {
          "output_type": "stream",
          "name": "stdout",
          "text": [
            "\n",
            "      Epoch    GPU_mem   box_loss   cls_loss   dfl_loss  Instances       Size\n"
          ]
        },
        {
          "output_type": "stream",
          "name": "stderr",
          "text": [
            "     34/100      2.68G      1.132      1.182      1.214          4        640: 100%|██████████| 3/3 [00:00<00:00,  3.36it/s]\n",
            "                 Class     Images  Instances      Box(P          R      mAP50  mAP50-95): 100%|██████████| 2/2 [00:00<00:00,  3.16it/s]"
          ]
        },
        {
          "output_type": "stream",
          "name": "stdout",
          "text": [
            "                   all         33         32       0.27      0.344      0.181       0.04\n"
          ]
        },
        {
          "output_type": "stream",
          "name": "stderr",
          "text": [
            "\n"
          ]
        },
        {
          "output_type": "stream",
          "name": "stdout",
          "text": [
            "\n",
            "      Epoch    GPU_mem   box_loss   cls_loss   dfl_loss  Instances       Size\n"
          ]
        },
        {
          "output_type": "stream",
          "name": "stderr",
          "text": [
            "     35/100      2.68G       1.09      1.269      1.207          3        640: 100%|██████████| 3/3 [00:00<00:00,  3.37it/s]\n",
            "                 Class     Images  Instances      Box(P          R      mAP50  mAP50-95): 100%|██████████| 2/2 [00:00<00:00,  2.79it/s]"
          ]
        },
        {
          "output_type": "stream",
          "name": "stdout",
          "text": [
            "                   all         33         32       0.34      0.312      0.273     0.0816\n"
          ]
        },
        {
          "output_type": "stream",
          "name": "stderr",
          "text": [
            "\n"
          ]
        },
        {
          "output_type": "stream",
          "name": "stdout",
          "text": [
            "\n",
            "      Epoch    GPU_mem   box_loss   cls_loss   dfl_loss  Instances       Size\n"
          ]
        },
        {
          "output_type": "stream",
          "name": "stderr",
          "text": [
            "     36/100       2.7G      1.403      1.292      1.535          3        640: 100%|██████████| 3/3 [00:00<00:00,  4.02it/s]\n",
            "                 Class     Images  Instances      Box(P          R      mAP50  mAP50-95): 100%|██████████| 2/2 [00:00<00:00,  4.75it/s]"
          ]
        },
        {
          "output_type": "stream",
          "name": "stdout",
          "text": [
            "                   all         33         32       0.48      0.562      0.478      0.146\n"
          ]
        },
        {
          "output_type": "stream",
          "name": "stderr",
          "text": [
            "\n"
          ]
        },
        {
          "output_type": "stream",
          "name": "stdout",
          "text": [
            "\n",
            "      Epoch    GPU_mem   box_loss   cls_loss   dfl_loss  Instances       Size\n"
          ]
        },
        {
          "output_type": "stream",
          "name": "stderr",
          "text": [
            "     37/100       2.7G      1.038      1.062      1.167          3        640: 100%|██████████| 3/3 [00:00<00:00,  4.79it/s]\n",
            "                 Class     Images  Instances      Box(P          R      mAP50  mAP50-95): 100%|██████████| 2/2 [00:00<00:00,  4.41it/s]"
          ]
        },
        {
          "output_type": "stream",
          "name": "stdout",
          "text": [
            "                   all         33         32       0.48      0.562      0.478      0.146\n"
          ]
        },
        {
          "output_type": "stream",
          "name": "stderr",
          "text": [
            "\n"
          ]
        },
        {
          "output_type": "stream",
          "name": "stdout",
          "text": [
            "\n",
            "      Epoch    GPU_mem   box_loss   cls_loss   dfl_loss  Instances       Size\n"
          ]
        },
        {
          "output_type": "stream",
          "name": "stderr",
          "text": [
            "     38/100       2.7G      1.132      1.671       1.31          1        640: 100%|██████████| 3/3 [00:00<00:00,  4.52it/s]\n",
            "                 Class     Images  Instances      Box(P          R      mAP50  mAP50-95): 100%|██████████| 2/2 [00:00<00:00,  4.78it/s]"
          ]
        },
        {
          "output_type": "stream",
          "name": "stdout",
          "text": [
            "                   all         33         32      0.601      0.849      0.761      0.391\n"
          ]
        },
        {
          "output_type": "stream",
          "name": "stderr",
          "text": [
            "\n"
          ]
        },
        {
          "output_type": "stream",
          "name": "stdout",
          "text": [
            "\n",
            "      Epoch    GPU_mem   box_loss   cls_loss   dfl_loss  Instances       Size\n"
          ]
        },
        {
          "output_type": "stream",
          "name": "stderr",
          "text": [
            "     39/100       2.7G     0.9646      1.004      1.199          4        640: 100%|██████████| 3/3 [00:01<00:00,  2.97it/s]\n",
            "                 Class     Images  Instances      Box(P          R      mAP50  mAP50-95): 100%|██████████| 2/2 [00:00<00:00,  5.03it/s]"
          ]
        },
        {
          "output_type": "stream",
          "name": "stdout",
          "text": [
            "                   all         33         32      0.817      0.594      0.714      0.353\n"
          ]
        },
        {
          "output_type": "stream",
          "name": "stderr",
          "text": [
            "\n"
          ]
        },
        {
          "output_type": "stream",
          "name": "stdout",
          "text": [
            "\n",
            "      Epoch    GPU_mem   box_loss   cls_loss   dfl_loss  Instances       Size\n"
          ]
        },
        {
          "output_type": "stream",
          "name": "stderr",
          "text": [
            "     40/100       2.7G      1.183      1.141       1.23          4        640: 100%|██████████| 3/3 [00:00<00:00,  4.55it/s]\n",
            "                 Class     Images  Instances      Box(P          R      mAP50  mAP50-95): 100%|██████████| 2/2 [00:00<00:00,  4.69it/s]"
          ]
        },
        {
          "output_type": "stream",
          "name": "stdout",
          "text": [
            "                   all         33         32      0.507      0.562      0.506      0.204\n"
          ]
        },
        {
          "output_type": "stream",
          "name": "stderr",
          "text": [
            "\n"
          ]
        },
        {
          "output_type": "stream",
          "name": "stdout",
          "text": [
            "\n",
            "      Epoch    GPU_mem   box_loss   cls_loss   dfl_loss  Instances       Size\n"
          ]
        },
        {
          "output_type": "stream",
          "name": "stderr",
          "text": [
            "     41/100       2.7G      1.091      1.042      1.298          2        640: 100%|██████████| 3/3 [00:00<00:00,  4.44it/s]\n",
            "                 Class     Images  Instances      Box(P          R      mAP50  mAP50-95): 100%|██████████| 2/2 [00:00<00:00,  5.90it/s]"
          ]
        },
        {
          "output_type": "stream",
          "name": "stdout",
          "text": [
            "                   all         33         32      0.507      0.562      0.506      0.204\n"
          ]
        },
        {
          "output_type": "stream",
          "name": "stderr",
          "text": [
            "\n"
          ]
        },
        {
          "output_type": "stream",
          "name": "stdout",
          "text": [
            "\n",
            "      Epoch    GPU_mem   box_loss   cls_loss   dfl_loss  Instances       Size\n"
          ]
        },
        {
          "output_type": "stream",
          "name": "stderr",
          "text": [
            "     42/100       2.7G      0.915     0.9405      1.078          4        640: 100%|██████████| 3/3 [00:00<00:00,  4.46it/s]\n",
            "                 Class     Images  Instances      Box(P          R      mAP50  mAP50-95): 100%|██████████| 2/2 [00:00<00:00,  3.08it/s]"
          ]
        },
        {
          "output_type": "stream",
          "name": "stdout",
          "text": [
            "                   all         33         32      0.565      0.594      0.595      0.226\n"
          ]
        },
        {
          "output_type": "stream",
          "name": "stderr",
          "text": [
            "\n"
          ]
        },
        {
          "output_type": "stream",
          "name": "stdout",
          "text": [
            "\n",
            "      Epoch    GPU_mem   box_loss   cls_loss   dfl_loss  Instances       Size\n"
          ]
        },
        {
          "output_type": "stream",
          "name": "stderr",
          "text": [
            "     43/100       2.7G      1.049     0.9864      1.173          3        640: 100%|██████████| 3/3 [00:00<00:00,  3.54it/s]\n",
            "                 Class     Images  Instances      Box(P          R      mAP50  mAP50-95): 100%|██████████| 2/2 [00:00<00:00,  2.46it/s]"
          ]
        },
        {
          "output_type": "stream",
          "name": "stdout",
          "text": [
            "                   all         33         32      0.928      0.688      0.776      0.513\n"
          ]
        },
        {
          "output_type": "stream",
          "name": "stderr",
          "text": [
            "\n"
          ]
        },
        {
          "output_type": "stream",
          "name": "stdout",
          "text": [
            "\n",
            "      Epoch    GPU_mem   box_loss   cls_loss   dfl_loss  Instances       Size\n"
          ]
        },
        {
          "output_type": "stream",
          "name": "stderr",
          "text": [
            "     44/100       2.7G      1.474      1.267      1.623          3        640: 100%|██████████| 3/3 [00:00<00:00,  3.60it/s]\n",
            "                 Class     Images  Instances      Box(P          R      mAP50  mAP50-95): 100%|██████████| 2/2 [00:00<00:00,  4.40it/s]"
          ]
        },
        {
          "output_type": "stream",
          "name": "stdout",
          "text": [
            "                   all         33         32      0.939      0.719      0.828      0.565\n"
          ]
        },
        {
          "output_type": "stream",
          "name": "stderr",
          "text": [
            "\n"
          ]
        },
        {
          "output_type": "stream",
          "name": "stdout",
          "text": [
            "\n",
            "      Epoch    GPU_mem   box_loss   cls_loss   dfl_loss  Instances       Size\n"
          ]
        },
        {
          "output_type": "stream",
          "name": "stderr",
          "text": [
            "     45/100       2.7G      1.179      1.521      1.189          1        640: 100%|██████████| 3/3 [00:00<00:00,  4.85it/s]\n",
            "                 Class     Images  Instances      Box(P          R      mAP50  mAP50-95): 100%|██████████| 2/2 [00:00<00:00,  4.08it/s]"
          ]
        },
        {
          "output_type": "stream",
          "name": "stdout",
          "text": [
            "                   all         33         32      0.939      0.719      0.828      0.565\n"
          ]
        },
        {
          "output_type": "stream",
          "name": "stderr",
          "text": [
            "\n"
          ]
        },
        {
          "output_type": "stream",
          "name": "stdout",
          "text": [
            "\n",
            "      Epoch    GPU_mem   box_loss   cls_loss   dfl_loss  Instances       Size\n"
          ]
        },
        {
          "output_type": "stream",
          "name": "stderr",
          "text": [
            "     46/100       2.7G      1.076       1.01      1.294          2        640: 100%|██████████| 3/3 [00:00<00:00,  4.37it/s]\n",
            "                 Class     Images  Instances      Box(P          R      mAP50  mAP50-95): 100%|██████████| 2/2 [00:00<00:00,  5.24it/s]"
          ]
        },
        {
          "output_type": "stream",
          "name": "stdout",
          "text": [
            "                   all         33         32      0.619      0.719      0.699       0.48\n"
          ]
        },
        {
          "output_type": "stream",
          "name": "stderr",
          "text": [
            "\n"
          ]
        },
        {
          "output_type": "stream",
          "name": "stdout",
          "text": [
            "\n",
            "      Epoch    GPU_mem   box_loss   cls_loss   dfl_loss  Instances       Size\n"
          ]
        },
        {
          "output_type": "stream",
          "name": "stderr",
          "text": [
            "     47/100       2.7G      1.158      1.163      1.186          4        640: 100%|██████████| 3/3 [00:00<00:00,  5.06it/s]\n",
            "                 Class     Images  Instances      Box(P          R      mAP50  mAP50-95): 100%|██████████| 2/2 [00:00<00:00,  4.16it/s]"
          ]
        },
        {
          "output_type": "stream",
          "name": "stdout",
          "text": [
            "                   all         33         32      0.953      0.625      0.841      0.588\n"
          ]
        },
        {
          "output_type": "stream",
          "name": "stderr",
          "text": [
            "\n"
          ]
        },
        {
          "output_type": "stream",
          "name": "stdout",
          "text": [
            "\n",
            "      Epoch    GPU_mem   box_loss   cls_loss   dfl_loss  Instances       Size\n"
          ]
        },
        {
          "output_type": "stream",
          "name": "stderr",
          "text": [
            "     48/100       2.7G     0.9543     0.8882      1.105          4        640: 100%|██████████| 3/3 [00:00<00:00,  4.85it/s]\n",
            "                 Class     Images  Instances      Box(P          R      mAP50  mAP50-95): 100%|██████████| 2/2 [00:00<00:00,  4.57it/s]"
          ]
        },
        {
          "output_type": "stream",
          "name": "stdout",
          "text": [
            "                   all         33         32      0.887      0.738      0.908      0.608\n"
          ]
        },
        {
          "output_type": "stream",
          "name": "stderr",
          "text": [
            "\n"
          ]
        },
        {
          "output_type": "stream",
          "name": "stdout",
          "text": [
            "\n",
            "      Epoch    GPU_mem   box_loss   cls_loss   dfl_loss  Instances       Size\n"
          ]
        },
        {
          "output_type": "stream",
          "name": "stderr",
          "text": [
            "     49/100       2.7G     0.9358     0.9184       1.08          3        640: 100%|██████████| 3/3 [00:00<00:00,  5.48it/s]\n",
            "                 Class     Images  Instances      Box(P          R      mAP50  mAP50-95): 100%|██████████| 2/2 [00:00<00:00,  4.00it/s]"
          ]
        },
        {
          "output_type": "stream",
          "name": "stdout",
          "text": [
            "                   all         33         32      0.887      0.738      0.908      0.608\n"
          ]
        },
        {
          "output_type": "stream",
          "name": "stderr",
          "text": [
            "\n"
          ]
        },
        {
          "output_type": "stream",
          "name": "stdout",
          "text": [
            "\n",
            "      Epoch    GPU_mem   box_loss   cls_loss   dfl_loss  Instances       Size\n"
          ]
        },
        {
          "output_type": "stream",
          "name": "stderr",
          "text": [
            "     50/100       2.7G     0.9078     0.9999      1.153          2        640: 100%|██████████| 3/3 [00:00<00:00,  4.94it/s]\n",
            "                 Class     Images  Instances      Box(P          R      mAP50  mAP50-95): 100%|██████████| 2/2 [00:00<00:00,  5.09it/s]"
          ]
        },
        {
          "output_type": "stream",
          "name": "stdout",
          "text": [
            "                   all         33         32      0.965      0.874       0.96      0.616\n"
          ]
        },
        {
          "output_type": "stream",
          "name": "stderr",
          "text": [
            "\n"
          ]
        },
        {
          "output_type": "stream",
          "name": "stdout",
          "text": [
            "\n",
            "      Epoch    GPU_mem   box_loss   cls_loss   dfl_loss  Instances       Size\n"
          ]
        },
        {
          "output_type": "stream",
          "name": "stderr",
          "text": [
            "     51/100       2.7G     0.9595      1.018      1.134          1        640: 100%|██████████| 3/3 [00:00<00:00,  3.61it/s]\n",
            "                 Class     Images  Instances      Box(P          R      mAP50  mAP50-95): 100%|██████████| 2/2 [00:00<00:00,  2.92it/s]"
          ]
        },
        {
          "output_type": "stream",
          "name": "stdout",
          "text": [
            "                   all         33         32      0.917      0.844      0.946        0.6\n"
          ]
        },
        {
          "output_type": "stream",
          "name": "stderr",
          "text": [
            "\n"
          ]
        },
        {
          "output_type": "stream",
          "name": "stdout",
          "text": [
            "\n",
            "      Epoch    GPU_mem   box_loss   cls_loss   dfl_loss  Instances       Size\n"
          ]
        },
        {
          "output_type": "stream",
          "name": "stderr",
          "text": [
            "     52/100       2.7G     0.9627     0.8695      1.119          4        640: 100%|██████████| 3/3 [00:00<00:00,  3.16it/s]\n",
            "                 Class     Images  Instances      Box(P          R      mAP50  mAP50-95): 100%|██████████| 2/2 [00:00<00:00,  2.81it/s]\n"
          ]
        },
        {
          "output_type": "stream",
          "name": "stdout",
          "text": [
            "                   all         33         32      0.909      0.844      0.914      0.568\n",
            "\n",
            "      Epoch    GPU_mem   box_loss   cls_loss   dfl_loss  Instances       Size\n"
          ]
        },
        {
          "output_type": "stream",
          "name": "stderr",
          "text": [
            "     53/100       2.7G     0.9036     0.9133       1.17          2        640: 100%|██████████| 3/3 [00:00<00:00,  4.64it/s]\n",
            "                 Class     Images  Instances      Box(P          R      mAP50  mAP50-95): 100%|██████████| 2/2 [00:00<00:00,  5.12it/s]"
          ]
        },
        {
          "output_type": "stream",
          "name": "stdout",
          "text": [
            "                   all         33         32      0.909      0.844      0.914      0.568\n"
          ]
        },
        {
          "output_type": "stream",
          "name": "stderr",
          "text": [
            "\n"
          ]
        },
        {
          "output_type": "stream",
          "name": "stdout",
          "text": [
            "\n",
            "      Epoch    GPU_mem   box_loss   cls_loss   dfl_loss  Instances       Size\n"
          ]
        },
        {
          "output_type": "stream",
          "name": "stderr",
          "text": [
            "     54/100       2.7G     0.9027      1.369      1.239          1        640: 100%|██████████| 3/3 [00:00<00:00,  3.90it/s]\n",
            "                 Class     Images  Instances      Box(P          R      mAP50  mAP50-95): 100%|██████████| 2/2 [00:00<00:00,  5.60it/s]"
          ]
        },
        {
          "output_type": "stream",
          "name": "stdout",
          "text": [
            "                   all         33         32      0.901      0.906      0.933      0.635\n"
          ]
        },
        {
          "output_type": "stream",
          "name": "stderr",
          "text": [
            "\n"
          ]
        },
        {
          "output_type": "stream",
          "name": "stdout",
          "text": [
            "\n",
            "      Epoch    GPU_mem   box_loss   cls_loss   dfl_loss  Instances       Size\n"
          ]
        },
        {
          "output_type": "stream",
          "name": "stderr",
          "text": [
            "     55/100       2.7G     0.9656     0.8737      1.129          4        640: 100%|██████████| 3/3 [00:00<00:00,  4.33it/s]\n",
            "                 Class     Images  Instances      Box(P          R      mAP50  mAP50-95): 100%|██████████| 2/2 [00:00<00:00,  5.74it/s]"
          ]
        },
        {
          "output_type": "stream",
          "name": "stdout",
          "text": [
            "                   all         33         32      0.935      0.903      0.965      0.689\n"
          ]
        },
        {
          "output_type": "stream",
          "name": "stderr",
          "text": [
            "\n"
          ]
        },
        {
          "output_type": "stream",
          "name": "stdout",
          "text": [
            "\n",
            "      Epoch    GPU_mem   box_loss   cls_loss   dfl_loss  Instances       Size\n"
          ]
        },
        {
          "output_type": "stream",
          "name": "stderr",
          "text": [
            "     56/100       2.7G      1.023     0.8645      1.166          2        640: 100%|██████████| 3/3 [00:00<00:00,  4.14it/s]\n",
            "                 Class     Images  Instances      Box(P          R      mAP50  mAP50-95): 100%|██████████| 2/2 [00:00<00:00,  6.18it/s]"
          ]
        },
        {
          "output_type": "stream",
          "name": "stdout",
          "text": [
            "                   all         33         32      0.986      0.969      0.993      0.745\n"
          ]
        },
        {
          "output_type": "stream",
          "name": "stderr",
          "text": [
            "\n"
          ]
        },
        {
          "output_type": "stream",
          "name": "stdout",
          "text": [
            "\n",
            "      Epoch    GPU_mem   box_loss   cls_loss   dfl_loss  Instances       Size\n"
          ]
        },
        {
          "output_type": "stream",
          "name": "stderr",
          "text": [
            "     57/100       2.7G      1.085     0.9933      1.383          3        640: 100%|██████████| 3/3 [00:00<00:00,  5.46it/s]\n",
            "                 Class     Images  Instances      Box(P          R      mAP50  mAP50-95): 100%|██████████| 2/2 [00:00<00:00,  4.84it/s]"
          ]
        },
        {
          "output_type": "stream",
          "name": "stdout",
          "text": [
            "                   all         33         32      0.986      0.969      0.993      0.745\n"
          ]
        },
        {
          "output_type": "stream",
          "name": "stderr",
          "text": [
            "\n"
          ]
        },
        {
          "output_type": "stream",
          "name": "stdout",
          "text": [
            "\n",
            "      Epoch    GPU_mem   box_loss   cls_loss   dfl_loss  Instances       Size\n"
          ]
        },
        {
          "output_type": "stream",
          "name": "stderr",
          "text": [
            "     58/100       2.7G      1.723      1.925      2.174          1        640: 100%|██████████| 3/3 [00:00<00:00,  6.38it/s]\n",
            "                 Class     Images  Instances      Box(P          R      mAP50  mAP50-95): 100%|██████████| 2/2 [00:00<00:00,  5.49it/s]"
          ]
        },
        {
          "output_type": "stream",
          "name": "stdout",
          "text": [
            "                   all         33         32      0.996          1      0.995      0.724\n"
          ]
        },
        {
          "output_type": "stream",
          "name": "stderr",
          "text": [
            "\n"
          ]
        },
        {
          "output_type": "stream",
          "name": "stdout",
          "text": [
            "\n",
            "      Epoch    GPU_mem   box_loss   cls_loss   dfl_loss  Instances       Size\n"
          ]
        },
        {
          "output_type": "stream",
          "name": "stderr",
          "text": [
            "     59/100       2.7G       1.17      1.304      1.296          1        640: 100%|██████████| 3/3 [00:00<00:00,  5.15it/s]\n",
            "                 Class     Images  Instances      Box(P          R      mAP50  mAP50-95): 100%|██████████| 2/2 [00:00<00:00,  3.41it/s]"
          ]
        },
        {
          "output_type": "stream",
          "name": "stdout",
          "text": [
            "                   all         33         32      0.993          1      0.995      0.702\n"
          ]
        },
        {
          "output_type": "stream",
          "name": "stderr",
          "text": [
            "\n"
          ]
        },
        {
          "output_type": "stream",
          "name": "stdout",
          "text": [
            "\n",
            "      Epoch    GPU_mem   box_loss   cls_loss   dfl_loss  Instances       Size\n"
          ]
        },
        {
          "output_type": "stream",
          "name": "stderr",
          "text": [
            "     60/100       2.7G      1.337      1.161      1.757          1        640: 100%|██████████| 3/3 [00:01<00:00,  2.97it/s]\n",
            "                 Class     Images  Instances      Box(P          R      mAP50  mAP50-95): 100%|██████████| 2/2 [00:00<00:00,  3.21it/s]"
          ]
        },
        {
          "output_type": "stream",
          "name": "stdout",
          "text": [
            "                   all         33         32      0.967          1      0.991      0.739\n"
          ]
        },
        {
          "output_type": "stream",
          "name": "stderr",
          "text": [
            "\n"
          ]
        },
        {
          "output_type": "stream",
          "name": "stdout",
          "text": [
            "\n",
            "      Epoch    GPU_mem   box_loss   cls_loss   dfl_loss  Instances       Size\n"
          ]
        },
        {
          "output_type": "stream",
          "name": "stderr",
          "text": [
            "     61/100       2.7G     0.9724     0.8918      1.104          4        640: 100%|██████████| 3/3 [00:00<00:00,  3.61it/s]\n",
            "                 Class     Images  Instances      Box(P          R      mAP50  mAP50-95): 100%|██████████| 2/2 [00:00<00:00,  3.67it/s]"
          ]
        },
        {
          "output_type": "stream",
          "name": "stdout",
          "text": [
            "                   all         33         32      0.967          1      0.991      0.739\n"
          ]
        },
        {
          "output_type": "stream",
          "name": "stderr",
          "text": [
            "\n"
          ]
        },
        {
          "output_type": "stream",
          "name": "stdout",
          "text": [
            "\n",
            "      Epoch    GPU_mem   box_loss   cls_loss   dfl_loss  Instances       Size\n"
          ]
        },
        {
          "output_type": "stream",
          "name": "stderr",
          "text": [
            "     62/100       2.7G      1.037      1.372      1.225          1        640: 100%|██████████| 3/3 [00:00<00:00,  4.79it/s]\n",
            "                 Class     Images  Instances      Box(P          R      mAP50  mAP50-95): 100%|██████████| 2/2 [00:00<00:00,  4.03it/s]"
          ]
        },
        {
          "output_type": "stream",
          "name": "stdout",
          "text": [
            "                   all         33         32       0.97      0.998       0.99      0.749\n"
          ]
        },
        {
          "output_type": "stream",
          "name": "stderr",
          "text": [
            "\n"
          ]
        },
        {
          "output_type": "stream",
          "name": "stdout",
          "text": [
            "\n",
            "      Epoch    GPU_mem   box_loss   cls_loss   dfl_loss  Instances       Size\n"
          ]
        },
        {
          "output_type": "stream",
          "name": "stderr",
          "text": [
            "     63/100       2.7G     0.8334      1.289      1.279          1        640: 100%|██████████| 3/3 [00:00<00:00,  4.57it/s]\n",
            "                 Class     Images  Instances      Box(P          R      mAP50  mAP50-95): 100%|██████████| 2/2 [00:00<00:00,  5.67it/s]"
          ]
        },
        {
          "output_type": "stream",
          "name": "stdout",
          "text": [
            "                   all         33         32      0.966          1      0.994      0.701\n"
          ]
        },
        {
          "output_type": "stream",
          "name": "stderr",
          "text": [
            "\n"
          ]
        },
        {
          "output_type": "stream",
          "name": "stdout",
          "text": [
            "\n",
            "      Epoch    GPU_mem   box_loss   cls_loss   dfl_loss  Instances       Size\n"
          ]
        },
        {
          "output_type": "stream",
          "name": "stderr",
          "text": [
            "     64/100       2.7G     0.9968      0.963      1.236          3        640: 100%|██████████| 3/3 [00:00<00:00,  3.92it/s]\n",
            "                 Class     Images  Instances      Box(P          R      mAP50  mAP50-95): 100%|██████████| 2/2 [00:00<00:00,  5.66it/s]"
          ]
        },
        {
          "output_type": "stream",
          "name": "stdout",
          "text": [
            "                   all         33         32      0.962          1      0.993      0.651\n"
          ]
        },
        {
          "output_type": "stream",
          "name": "stderr",
          "text": [
            "\n"
          ]
        },
        {
          "output_type": "stream",
          "name": "stdout",
          "text": [
            "\n",
            "      Epoch    GPU_mem   box_loss   cls_loss   dfl_loss  Instances       Size\n"
          ]
        },
        {
          "output_type": "stream",
          "name": "stderr",
          "text": [
            "     65/100       2.7G     0.8725     0.7722      1.093          4        640: 100%|██████████| 3/3 [00:00<00:00,  5.09it/s]\n",
            "                 Class     Images  Instances      Box(P          R      mAP50  mAP50-95): 100%|██████████| 2/2 [00:00<00:00,  4.81it/s]"
          ]
        },
        {
          "output_type": "stream",
          "name": "stdout",
          "text": [
            "                   all         33         32      0.962          1      0.993      0.651\n"
          ]
        },
        {
          "output_type": "stream",
          "name": "stderr",
          "text": [
            "\n"
          ]
        },
        {
          "output_type": "stream",
          "name": "stdout",
          "text": [
            "\n",
            "      Epoch    GPU_mem   box_loss   cls_loss   dfl_loss  Instances       Size\n"
          ]
        },
        {
          "output_type": "stream",
          "name": "stderr",
          "text": [
            "     66/100       2.7G     0.9262     0.8695      1.115          1        640: 100%|██████████| 3/3 [00:00<00:00,  4.11it/s]\n",
            "                 Class     Images  Instances      Box(P          R      mAP50  mAP50-95): 100%|██████████| 2/2 [00:00<00:00,  4.66it/s]"
          ]
        },
        {
          "output_type": "stream",
          "name": "stdout",
          "text": [
            "                   all         33         32      0.965          1      0.994      0.697\n"
          ]
        },
        {
          "output_type": "stream",
          "name": "stderr",
          "text": [
            "\n"
          ]
        },
        {
          "output_type": "stream",
          "name": "stdout",
          "text": [
            "\n",
            "      Epoch    GPU_mem   box_loss   cls_loss   dfl_loss  Instances       Size\n"
          ]
        },
        {
          "output_type": "stream",
          "name": "stderr",
          "text": [
            "     67/100       2.7G     0.8915      1.001      1.148          4        640: 100%|██████████| 3/3 [00:00<00:00,  4.21it/s]\n",
            "                 Class     Images  Instances      Box(P          R      mAP50  mAP50-95): 100%|██████████| 2/2 [00:00<00:00,  5.00it/s]"
          ]
        },
        {
          "output_type": "stream",
          "name": "stdout",
          "text": [
            "                   all         33         32      0.989          1      0.995      0.713\n"
          ]
        },
        {
          "output_type": "stream",
          "name": "stderr",
          "text": [
            "\n"
          ]
        },
        {
          "output_type": "stream",
          "name": "stdout",
          "text": [
            "\n",
            "      Epoch    GPU_mem   box_loss   cls_loss   dfl_loss  Instances       Size\n"
          ]
        },
        {
          "output_type": "stream",
          "name": "stderr",
          "text": [
            "     68/100       2.7G      0.838      1.163      1.094          1        640: 100%|██████████| 3/3 [00:00<00:00,  3.26it/s]\n",
            "                 Class     Images  Instances      Box(P          R      mAP50  mAP50-95): 100%|██████████| 2/2 [00:00<00:00,  3.65it/s]"
          ]
        },
        {
          "output_type": "stream",
          "name": "stdout",
          "text": [
            "                   all         33         32      0.992          1      0.995      0.744\n"
          ]
        },
        {
          "output_type": "stream",
          "name": "stderr",
          "text": [
            "\n"
          ]
        },
        {
          "output_type": "stream",
          "name": "stdout",
          "text": [
            "\n",
            "      Epoch    GPU_mem   box_loss   cls_loss   dfl_loss  Instances       Size\n"
          ]
        },
        {
          "output_type": "stream",
          "name": "stderr",
          "text": [
            "     69/100       2.7G     0.8653     0.7113      1.112          2        640: 100%|██████████| 3/3 [00:00<00:00,  3.65it/s]\n",
            "                 Class     Images  Instances      Box(P          R      mAP50  mAP50-95): 100%|██████████| 2/2 [00:00<00:00,  3.09it/s]"
          ]
        },
        {
          "output_type": "stream",
          "name": "stdout",
          "text": [
            "                   all         33         32      0.992          1      0.995      0.744\n"
          ]
        },
        {
          "output_type": "stream",
          "name": "stderr",
          "text": [
            "\n"
          ]
        },
        {
          "output_type": "stream",
          "name": "stdout",
          "text": [
            "\n",
            "      Epoch    GPU_mem   box_loss   cls_loss   dfl_loss  Instances       Size\n"
          ]
        },
        {
          "output_type": "stream",
          "name": "stderr",
          "text": [
            "     70/100       2.7G      1.105       1.04      1.261          3        640: 100%|██████████| 3/3 [00:00<00:00,  5.15it/s]\n",
            "                 Class     Images  Instances      Box(P          R      mAP50  mAP50-95): 100%|██████████| 2/2 [00:00<00:00,  5.63it/s]"
          ]
        },
        {
          "output_type": "stream",
          "name": "stdout",
          "text": [
            "                   all         33         32      0.996          1      0.995      0.805\n"
          ]
        },
        {
          "output_type": "stream",
          "name": "stderr",
          "text": [
            "\n"
          ]
        },
        {
          "output_type": "stream",
          "name": "stdout",
          "text": [
            "\n",
            "      Epoch    GPU_mem   box_loss   cls_loss   dfl_loss  Instances       Size\n"
          ]
        },
        {
          "output_type": "stream",
          "name": "stderr",
          "text": [
            "     71/100       2.7G      1.136      1.007       1.33          2        640: 100%|██████████| 3/3 [00:00<00:00,  4.84it/s]\n",
            "                 Class     Images  Instances      Box(P          R      mAP50  mAP50-95): 100%|██████████| 2/2 [00:00<00:00,  3.92it/s]"
          ]
        },
        {
          "output_type": "stream",
          "name": "stdout",
          "text": [
            "                   all         33         32      0.996          1      0.995      0.847\n"
          ]
        },
        {
          "output_type": "stream",
          "name": "stderr",
          "text": [
            "\n"
          ]
        },
        {
          "output_type": "stream",
          "name": "stdout",
          "text": [
            "\n",
            "      Epoch    GPU_mem   box_loss   cls_loss   dfl_loss  Instances       Size\n"
          ]
        },
        {
          "output_type": "stream",
          "name": "stderr",
          "text": [
            "     72/100       2.7G      1.268      1.199      1.764          1        640: 100%|██████████| 3/3 [00:00<00:00,  4.29it/s]\n",
            "                 Class     Images  Instances      Box(P          R      mAP50  mAP50-95): 100%|██████████| 2/2 [00:00<00:00,  4.58it/s]"
          ]
        },
        {
          "output_type": "stream",
          "name": "stdout",
          "text": [
            "                   all         33         32      0.998          1      0.995      0.855\n"
          ]
        },
        {
          "output_type": "stream",
          "name": "stderr",
          "text": [
            "\n"
          ]
        },
        {
          "output_type": "stream",
          "name": "stdout",
          "text": [
            "\n",
            "      Epoch    GPU_mem   box_loss   cls_loss   dfl_loss  Instances       Size\n"
          ]
        },
        {
          "output_type": "stream",
          "name": "stderr",
          "text": [
            "     73/100       2.7G     0.8035     0.8418      1.114          2        640: 100%|██████████| 3/3 [00:00<00:00,  4.97it/s]\n",
            "                 Class     Images  Instances      Box(P          R      mAP50  mAP50-95): 100%|██████████| 2/2 [00:00<00:00,  4.72it/s]"
          ]
        },
        {
          "output_type": "stream",
          "name": "stdout",
          "text": [
            "                   all         33         32      0.998          1      0.995      0.855\n"
          ]
        },
        {
          "output_type": "stream",
          "name": "stderr",
          "text": [
            "\n"
          ]
        },
        {
          "output_type": "stream",
          "name": "stdout",
          "text": [
            "\n",
            "      Epoch    GPU_mem   box_loss   cls_loss   dfl_loss  Instances       Size\n"
          ]
        },
        {
          "output_type": "stream",
          "name": "stderr",
          "text": [
            "     74/100       2.7G     0.9129     0.7534      1.111          4        640: 100%|██████████| 3/3 [00:00<00:00,  4.10it/s]\n",
            "                 Class     Images  Instances      Box(P          R      mAP50  mAP50-95): 100%|██████████| 2/2 [00:00<00:00,  4.06it/s]"
          ]
        },
        {
          "output_type": "stream",
          "name": "stdout",
          "text": [
            "                   all         33         32      0.997          1      0.995      0.828\n"
          ]
        },
        {
          "output_type": "stream",
          "name": "stderr",
          "text": [
            "\n"
          ]
        },
        {
          "output_type": "stream",
          "name": "stdout",
          "text": [
            "\n",
            "      Epoch    GPU_mem   box_loss   cls_loss   dfl_loss  Instances       Size\n"
          ]
        },
        {
          "output_type": "stream",
          "name": "stderr",
          "text": [
            "     75/100       2.7G     0.7919     0.7462      1.121          2        640: 100%|██████████| 3/3 [00:00<00:00,  4.15it/s]\n",
            "                 Class     Images  Instances      Box(P          R      mAP50  mAP50-95): 100%|██████████| 2/2 [00:00<00:00,  5.34it/s]"
          ]
        },
        {
          "output_type": "stream",
          "name": "stdout",
          "text": [
            "                   all         33         32      0.996          1      0.995      0.828\n"
          ]
        },
        {
          "output_type": "stream",
          "name": "stderr",
          "text": [
            "\n"
          ]
        },
        {
          "output_type": "stream",
          "name": "stdout",
          "text": [
            "\n",
            "      Epoch    GPU_mem   box_loss   cls_loss   dfl_loss  Instances       Size\n"
          ]
        },
        {
          "output_type": "stream",
          "name": "stderr",
          "text": [
            "     76/100       2.7G      1.421      2.136      1.872          1        640: 100%|██████████| 3/3 [00:00<00:00,  4.32it/s]\n",
            "                 Class     Images  Instances      Box(P          R      mAP50  mAP50-95): 100%|██████████| 2/2 [00:00<00:00,  3.47it/s]"
          ]
        },
        {
          "output_type": "stream",
          "name": "stdout",
          "text": [
            "                   all         33         32          1      0.986      0.995      0.838\n"
          ]
        },
        {
          "output_type": "stream",
          "name": "stderr",
          "text": [
            "\n"
          ]
        },
        {
          "output_type": "stream",
          "name": "stdout",
          "text": [
            "\n",
            "      Epoch    GPU_mem   box_loss   cls_loss   dfl_loss  Instances       Size\n"
          ]
        },
        {
          "output_type": "stream",
          "name": "stderr",
          "text": [
            "     77/100       2.7G      0.841     0.9372      1.037          1        640: 100%|██████████| 3/3 [00:00<00:00,  4.13it/s]\n",
            "                 Class     Images  Instances      Box(P          R      mAP50  mAP50-95): 100%|██████████| 2/2 [00:00<00:00,  2.98it/s]"
          ]
        },
        {
          "output_type": "stream",
          "name": "stdout",
          "text": [
            "                   all         33         32          1      0.986      0.995      0.838\n"
          ]
        },
        {
          "output_type": "stream",
          "name": "stderr",
          "text": [
            "\n"
          ]
        },
        {
          "output_type": "stream",
          "name": "stdout",
          "text": [
            "\n",
            "      Epoch    GPU_mem   box_loss   cls_loss   dfl_loss  Instances       Size\n"
          ]
        },
        {
          "output_type": "stream",
          "name": "stderr",
          "text": [
            "     78/100       2.7G     0.7229     0.7851      1.039          1        640: 100%|██████████| 3/3 [00:00<00:00,  3.90it/s]\n",
            "                 Class     Images  Instances      Box(P          R      mAP50  mAP50-95): 100%|██████████| 2/2 [00:00<00:00,  4.20it/s]"
          ]
        },
        {
          "output_type": "stream",
          "name": "stdout",
          "text": [
            "                   all         33         32      0.967          1      0.993      0.831\n"
          ]
        },
        {
          "output_type": "stream",
          "name": "stderr",
          "text": [
            "\n"
          ]
        },
        {
          "output_type": "stream",
          "name": "stdout",
          "text": [
            "\n",
            "      Epoch    GPU_mem   box_loss   cls_loss   dfl_loss  Instances       Size\n"
          ]
        },
        {
          "output_type": "stream",
          "name": "stderr",
          "text": [
            "     79/100       2.7G     0.9614      1.367      1.276          1        640: 100%|██████████| 3/3 [00:00<00:00,  5.02it/s]\n",
            "                 Class     Images  Instances      Box(P          R      mAP50  mAP50-95): 100%|██████████| 2/2 [00:00<00:00,  4.84it/s]"
          ]
        },
        {
          "output_type": "stream",
          "name": "stdout",
          "text": [
            "                   all         33         32      0.972          1      0.995      0.824\n"
          ]
        },
        {
          "output_type": "stream",
          "name": "stderr",
          "text": [
            "\n"
          ]
        },
        {
          "output_type": "stream",
          "name": "stdout",
          "text": [
            "\n",
            "      Epoch    GPU_mem   box_loss   cls_loss   dfl_loss  Instances       Size\n"
          ]
        },
        {
          "output_type": "stream",
          "name": "stderr",
          "text": [
            "     80/100       2.7G     0.8855     0.8578      1.066          4        640: 100%|██████████| 3/3 [00:00<00:00,  4.23it/s]\n",
            "                 Class     Images  Instances      Box(P          R      mAP50  mAP50-95): 100%|██████████| 2/2 [00:00<00:00,  4.87it/s]"
          ]
        },
        {
          "output_type": "stream",
          "name": "stdout",
          "text": [
            "                   all         33         32          1      0.997      0.995      0.848\n"
          ]
        },
        {
          "output_type": "stream",
          "name": "stderr",
          "text": [
            "\n"
          ]
        },
        {
          "output_type": "stream",
          "name": "stdout",
          "text": [
            "\n",
            "      Epoch    GPU_mem   box_loss   cls_loss   dfl_loss  Instances       Size\n"
          ]
        },
        {
          "output_type": "stream",
          "name": "stderr",
          "text": [
            "     81/100       2.7G     0.8184     0.7526      1.121          2        640: 100%|██████████| 3/3 [00:00<00:00,  4.97it/s]\n",
            "                 Class     Images  Instances      Box(P          R      mAP50  mAP50-95): 100%|██████████| 2/2 [00:00<00:00,  4.78it/s]"
          ]
        },
        {
          "output_type": "stream",
          "name": "stdout",
          "text": [
            "                   all         33         32          1      0.997      0.995      0.848\n"
          ]
        },
        {
          "output_type": "stream",
          "name": "stderr",
          "text": [
            "\n"
          ]
        },
        {
          "output_type": "stream",
          "name": "stdout",
          "text": [
            "\n",
            "      Epoch    GPU_mem   box_loss   cls_loss   dfl_loss  Instances       Size\n"
          ]
        },
        {
          "output_type": "stream",
          "name": "stderr",
          "text": [
            "     82/100       2.7G     0.6679     0.7739      1.125          2        640: 100%|██████████| 3/3 [00:00<00:00,  4.53it/s]\n",
            "                 Class     Images  Instances      Box(P          R      mAP50  mAP50-95): 100%|██████████| 2/2 [00:00<00:00,  6.47it/s]"
          ]
        },
        {
          "output_type": "stream",
          "name": "stdout",
          "text": [
            "                   all         33         32          1      0.998      0.995      0.859\n"
          ]
        },
        {
          "output_type": "stream",
          "name": "stderr",
          "text": [
            "\n"
          ]
        },
        {
          "output_type": "stream",
          "name": "stdout",
          "text": [
            "\n",
            "      Epoch    GPU_mem   box_loss   cls_loss   dfl_loss  Instances       Size\n"
          ]
        },
        {
          "output_type": "stream",
          "name": "stderr",
          "text": [
            "     83/100       2.7G     0.8044     0.8811      1.089          2        640: 100%|██████████| 3/3 [00:00<00:00,  4.69it/s]\n",
            "                 Class     Images  Instances      Box(P          R      mAP50  mAP50-95): 100%|██████████| 2/2 [00:00<00:00,  5.45it/s]"
          ]
        },
        {
          "output_type": "stream",
          "name": "stdout",
          "text": [
            "                   all         33         32          1      0.997      0.995      0.859\n"
          ]
        },
        {
          "output_type": "stream",
          "name": "stderr",
          "text": [
            "\n"
          ]
        },
        {
          "output_type": "stream",
          "name": "stdout",
          "text": [
            "\n",
            "      Epoch    GPU_mem   box_loss   cls_loss   dfl_loss  Instances       Size\n"
          ]
        },
        {
          "output_type": "stream",
          "name": "stderr",
          "text": [
            "     84/100       2.7G     0.8618     0.6837      1.185          2        640: 100%|██████████| 3/3 [00:00<00:00,  4.51it/s]\n",
            "                 Class     Images  Instances      Box(P          R      mAP50  mAP50-95): 100%|██████████| 2/2 [00:00<00:00,  4.53it/s]"
          ]
        },
        {
          "output_type": "stream",
          "name": "stdout",
          "text": [
            "                   all         33         32          1      0.996      0.995      0.859\n"
          ]
        },
        {
          "output_type": "stream",
          "name": "stderr",
          "text": [
            "\n"
          ]
        },
        {
          "output_type": "stream",
          "name": "stdout",
          "text": [
            "\n",
            "      Epoch    GPU_mem   box_loss   cls_loss   dfl_loss  Instances       Size\n"
          ]
        },
        {
          "output_type": "stream",
          "name": "stderr",
          "text": [
            "     85/100       2.7G      0.752     0.6602     0.9553          4        640: 100%|██████████| 3/3 [00:00<00:00,  3.69it/s]\n",
            "                 Class     Images  Instances      Box(P          R      mAP50  mAP50-95): 100%|██████████| 2/2 [00:00<00:00,  2.80it/s]\n"
          ]
        },
        {
          "output_type": "stream",
          "name": "stdout",
          "text": [
            "                   all         33         32          1      0.996      0.995      0.859\n",
            "\n",
            "      Epoch    GPU_mem   box_loss   cls_loss   dfl_loss  Instances       Size\n"
          ]
        },
        {
          "output_type": "stream",
          "name": "stderr",
          "text": [
            "     86/100       2.7G     0.5946     0.6501     0.9729          4        640: 100%|██████████| 3/3 [00:00<00:00,  3.74it/s]\n",
            "                 Class     Images  Instances      Box(P          R      mAP50  mAP50-95): 100%|██████████| 2/2 [00:00<00:00,  2.93it/s]"
          ]
        },
        {
          "output_type": "stream",
          "name": "stdout",
          "text": [
            "                   all         33         32          1      0.999      0.995      0.863\n"
          ]
        },
        {
          "output_type": "stream",
          "name": "stderr",
          "text": [
            "\n"
          ]
        },
        {
          "output_type": "stream",
          "name": "stdout",
          "text": [
            "\n",
            "      Epoch    GPU_mem   box_loss   cls_loss   dfl_loss  Instances       Size\n"
          ]
        },
        {
          "output_type": "stream",
          "name": "stderr",
          "text": [
            "     87/100       2.7G     0.7108     0.7437       1.09          2        640: 100%|██████████| 3/3 [00:00<00:00,  4.35it/s]\n",
            "                 Class     Images  Instances      Box(P          R      mAP50  mAP50-95): 100%|██████████| 2/2 [00:00<00:00,  4.67it/s]"
          ]
        },
        {
          "output_type": "stream",
          "name": "stdout",
          "text": [
            "                   all         33         32      0.999          1      0.995      0.869\n"
          ]
        },
        {
          "output_type": "stream",
          "name": "stderr",
          "text": [
            "\n"
          ]
        },
        {
          "output_type": "stream",
          "name": "stdout",
          "text": [
            "\n",
            "      Epoch    GPU_mem   box_loss   cls_loss   dfl_loss  Instances       Size\n"
          ]
        },
        {
          "output_type": "stream",
          "name": "stderr",
          "text": [
            "     88/100       2.7G     0.6817     0.7564      1.004          1        640: 100%|██████████| 3/3 [00:00<00:00,  5.48it/s]\n",
            "                 Class     Images  Instances      Box(P          R      mAP50  mAP50-95): 100%|██████████| 2/2 [00:00<00:00,  4.01it/s]"
          ]
        },
        {
          "output_type": "stream",
          "name": "stdout",
          "text": [
            "                   all         33         32      0.999          1      0.995      0.884\n"
          ]
        },
        {
          "output_type": "stream",
          "name": "stderr",
          "text": [
            "\n"
          ]
        },
        {
          "output_type": "stream",
          "name": "stdout",
          "text": [
            "\n",
            "      Epoch    GPU_mem   box_loss   cls_loss   dfl_loss  Instances       Size\n"
          ]
        },
        {
          "output_type": "stream",
          "name": "stderr",
          "text": [
            "     89/100       2.7G      0.827      0.711      1.115          4        640: 100%|██████████| 3/3 [00:00<00:00,  5.05it/s]\n",
            "                 Class     Images  Instances      Box(P          R      mAP50  mAP50-95): 100%|██████████| 2/2 [00:00<00:00,  5.66it/s]"
          ]
        },
        {
          "output_type": "stream",
          "name": "stdout",
          "text": [
            "                   all         33         32      0.999          1      0.995      0.884\n"
          ]
        },
        {
          "output_type": "stream",
          "name": "stderr",
          "text": [
            "\n"
          ]
        },
        {
          "output_type": "stream",
          "name": "stdout",
          "text": [
            "\n",
            "      Epoch    GPU_mem   box_loss   cls_loss   dfl_loss  Instances       Size\n"
          ]
        },
        {
          "output_type": "stream",
          "name": "stderr",
          "text": [
            "     90/100       2.7G     0.7565     0.7313      1.017          1        640: 100%|██████████| 3/3 [00:00<00:00,  4.92it/s]\n",
            "                 Class     Images  Instances      Box(P          R      mAP50  mAP50-95): 100%|██████████| 2/2 [00:00<00:00,  4.71it/s]"
          ]
        },
        {
          "output_type": "stream",
          "name": "stdout",
          "text": [
            "                   all         33         32      0.999          1      0.995      0.881\n"
          ]
        },
        {
          "output_type": "stream",
          "name": "stderr",
          "text": [
            "\n"
          ]
        },
        {
          "output_type": "stream",
          "name": "stdout",
          "text": [
            "Closing dataloader mosaic\n",
            "\u001b[34m\u001b[1malbumentations: \u001b[0mBlur(p=0.01, blur_limit=(3, 7)), MedianBlur(p=0.01, blur_limit=(3, 7)), ToGray(p=0.01, method='weighted_average', num_output_channels=3), CLAHE(p=0.01, clip_limit=(1.0, 4.0), tile_grid_size=(8, 8))\n",
            "\n",
            "      Epoch    GPU_mem   box_loss   cls_loss   dfl_loss  Instances       Size\n"
          ]
        },
        {
          "output_type": "stream",
          "name": "stderr",
          "text": [
            "     91/100       2.7G      1.098      1.156      1.138          1        640: 100%|██████████| 3/3 [00:02<00:00,  1.20it/s]\n",
            "                 Class     Images  Instances      Box(P          R      mAP50  mAP50-95): 100%|██████████| 2/2 [00:00<00:00,  4.79it/s]"
          ]
        },
        {
          "output_type": "stream",
          "name": "stdout",
          "text": [
            "                   all         33         32      0.998          1      0.995      0.885\n"
          ]
        },
        {
          "output_type": "stream",
          "name": "stderr",
          "text": [
            "\n"
          ]
        },
        {
          "output_type": "stream",
          "name": "stdout",
          "text": [
            "\n",
            "      Epoch    GPU_mem   box_loss   cls_loss   dfl_loss  Instances       Size\n"
          ]
        },
        {
          "output_type": "stream",
          "name": "stderr",
          "text": [
            "     92/100       2.7G     0.6193     0.8825      1.075          1        640: 100%|██████████| 3/3 [00:00<00:00,  3.40it/s]\n",
            "                 Class     Images  Instances      Box(P          R      mAP50  mAP50-95): 100%|██████████| 2/2 [00:00<00:00,  3.68it/s]"
          ]
        },
        {
          "output_type": "stream",
          "name": "stdout",
          "text": [
            "                   all         33         32      0.997          1      0.995      0.884\n"
          ]
        },
        {
          "output_type": "stream",
          "name": "stderr",
          "text": [
            "\n"
          ]
        },
        {
          "output_type": "stream",
          "name": "stdout",
          "text": [
            "\n",
            "      Epoch    GPU_mem   box_loss   cls_loss   dfl_loss  Instances       Size\n"
          ]
        },
        {
          "output_type": "stream",
          "name": "stderr",
          "text": [
            "     93/100       2.7G     0.5775     0.8623       1.09          1        640: 100%|██████████| 3/3 [00:00<00:00,  3.13it/s]\n",
            "                 Class     Images  Instances      Box(P          R      mAP50  mAP50-95): 100%|██████████| 2/2 [00:00<00:00,  2.94it/s]\n"
          ]
        },
        {
          "output_type": "stream",
          "name": "stdout",
          "text": [
            "                   all         33         32      0.997          1      0.995      0.884\n",
            "\n",
            "      Epoch    GPU_mem   box_loss   cls_loss   dfl_loss  Instances       Size\n"
          ]
        },
        {
          "output_type": "stream",
          "name": "stderr",
          "text": [
            "     94/100       2.7G     0.6493      1.421       1.02          1        640: 100%|██████████| 3/3 [00:00<00:00,  4.94it/s]\n",
            "                 Class     Images  Instances      Box(P          R      mAP50  mAP50-95): 100%|██████████| 2/2 [00:00<00:00,  4.37it/s]"
          ]
        },
        {
          "output_type": "stream",
          "name": "stdout",
          "text": [
            "                   all         33         32      0.997          1      0.995      0.886\n"
          ]
        },
        {
          "output_type": "stream",
          "name": "stderr",
          "text": [
            "\n"
          ]
        },
        {
          "output_type": "stream",
          "name": "stdout",
          "text": [
            "\n",
            "      Epoch    GPU_mem   box_loss   cls_loss   dfl_loss  Instances       Size\n"
          ]
        },
        {
          "output_type": "stream",
          "name": "stderr",
          "text": [
            "     95/100       2.7G     0.6777     0.9161      1.075          1        640: 100%|██████████| 3/3 [00:00<00:00,  4.71it/s]\n",
            "                 Class     Images  Instances      Box(P          R      mAP50  mAP50-95): 100%|██████████| 2/2 [00:00<00:00,  4.72it/s]"
          ]
        },
        {
          "output_type": "stream",
          "name": "stdout",
          "text": [
            "                   all         33         32      0.997          1      0.995      0.891\n"
          ]
        },
        {
          "output_type": "stream",
          "name": "stderr",
          "text": [
            "\n"
          ]
        },
        {
          "output_type": "stream",
          "name": "stdout",
          "text": [
            "\n",
            "      Epoch    GPU_mem   box_loss   cls_loss   dfl_loss  Instances       Size\n"
          ]
        },
        {
          "output_type": "stream",
          "name": "stderr",
          "text": [
            "     96/100       2.7G      0.953      1.217      1.318          1        640: 100%|██████████| 3/3 [00:00<00:00,  4.57it/s]\n",
            "                 Class     Images  Instances      Box(P          R      mAP50  mAP50-95): 100%|██████████| 2/2 [00:00<00:00,  5.50it/s]"
          ]
        },
        {
          "output_type": "stream",
          "name": "stdout",
          "text": [
            "                   all         33         32      0.997          1      0.995      0.886\n"
          ]
        },
        {
          "output_type": "stream",
          "name": "stderr",
          "text": [
            "\n"
          ]
        },
        {
          "output_type": "stream",
          "name": "stdout",
          "text": [
            "\n",
            "      Epoch    GPU_mem   box_loss   cls_loss   dfl_loss  Instances       Size\n"
          ]
        },
        {
          "output_type": "stream",
          "name": "stderr",
          "text": [
            "     97/100       2.7G     0.4624     0.6887     0.9777          1        640: 100%|██████████| 3/3 [00:00<00:00,  6.32it/s]\n",
            "                 Class     Images  Instances      Box(P          R      mAP50  mAP50-95): 100%|██████████| 2/2 [00:00<00:00,  3.85it/s]"
          ]
        },
        {
          "output_type": "stream",
          "name": "stdout",
          "text": [
            "                   all         33         32      0.997          1      0.995      0.886\n"
          ]
        },
        {
          "output_type": "stream",
          "name": "stderr",
          "text": [
            "\n"
          ]
        },
        {
          "output_type": "stream",
          "name": "stdout",
          "text": [
            "\n",
            "      Epoch    GPU_mem   box_loss   cls_loss   dfl_loss  Instances       Size\n"
          ]
        },
        {
          "output_type": "stream",
          "name": "stderr",
          "text": [
            "     98/100       2.7G     0.6127      1.227      1.078          1        640: 100%|██████████| 3/3 [00:00<00:00,  4.58it/s]\n",
            "                 Class     Images  Instances      Box(P          R      mAP50  mAP50-95): 100%|██████████| 2/2 [00:00<00:00,  4.77it/s]"
          ]
        },
        {
          "output_type": "stream",
          "name": "stdout",
          "text": [
            "                   all         33         32      0.997          1      0.995      0.887\n"
          ]
        },
        {
          "output_type": "stream",
          "name": "stderr",
          "text": [
            "\n"
          ]
        },
        {
          "output_type": "stream",
          "name": "stdout",
          "text": [
            "\n",
            "      Epoch    GPU_mem   box_loss   cls_loss   dfl_loss  Instances       Size\n"
          ]
        },
        {
          "output_type": "stream",
          "name": "stderr",
          "text": [
            "     99/100       2.7G     0.5321     0.7332      1.055          1        640: 100%|██████████| 3/3 [00:00<00:00,  4.91it/s]\n",
            "                 Class     Images  Instances      Box(P          R      mAP50  mAP50-95): 100%|██████████| 2/2 [00:00<00:00,  4.88it/s]"
          ]
        },
        {
          "output_type": "stream",
          "name": "stdout",
          "text": [
            "                   all         33         32      0.998          1      0.995       0.89\n"
          ]
        },
        {
          "output_type": "stream",
          "name": "stderr",
          "text": [
            "\n"
          ]
        },
        {
          "output_type": "stream",
          "name": "stdout",
          "text": [
            "\n",
            "      Epoch    GPU_mem   box_loss   cls_loss   dfl_loss  Instances       Size\n"
          ]
        },
        {
          "output_type": "stream",
          "name": "stderr",
          "text": [
            "    100/100       2.7G      0.563     0.7305      1.001          1        640: 100%|██████████| 3/3 [00:00<00:00,  4.62it/s]\n",
            "                 Class     Images  Instances      Box(P          R      mAP50  mAP50-95): 100%|██████████| 2/2 [00:00<00:00,  4.08it/s]"
          ]
        },
        {
          "output_type": "stream",
          "name": "stdout",
          "text": [
            "                   all         33         32      0.998          1      0.995      0.885\n"
          ]
        },
        {
          "output_type": "stream",
          "name": "stderr",
          "text": [
            "\n"
          ]
        },
        {
          "output_type": "stream",
          "name": "stdout",
          "text": [
            "\n",
            "100 epochs completed in 0.049 hours.\n",
            "Optimizer stripped from runs/detect/train8/weights/last.pt, 6.2MB\n",
            "Optimizer stripped from runs/detect/train8/weights/best.pt, 6.2MB\n",
            "\n",
            "Validating runs/detect/train8/weights/best.pt...\n",
            "Searching for 1 idle GPUs with >= 2048 MiB free memory...\n",
            "Selected idle CUDA devices [0]\n",
            "Ultralytics 8.3.140 🚀 Python-3.11.12 torch-2.6.0+cu124 CUDA:0 (Tesla T4, 15095MiB)\n",
            "Model summary (fused): 72 layers, 3,005,843 parameters, 0 gradients, 8.1 GFLOPs\n"
          ]
        },
        {
          "output_type": "stream",
          "name": "stderr",
          "text": [
            "                 Class     Images  Instances      Box(P          R      mAP50  mAP50-95): 100%|██████████| 2/2 [00:00<00:00,  3.59it/s]\n"
          ]
        },
        {
          "output_type": "stream",
          "name": "stdout",
          "text": [
            "                   all         33         32      0.997          1      0.995       0.89\n",
            "Speed: 0.5ms preprocess, 4.6ms inference, 0.0ms loss, 3.2ms postprocess per image\n",
            "Results saved to \u001b[1mruns/detect/train8\u001b[0m\n"
          ]
        }
      ],
      "source": [
        "import os\n",
        "\n",
        "from ultralytics import YOLO\n",
        "\n",
        "# model = YOLO(\"yolov8n.yaml\") # train a model from scratch\n",
        "model = YOLO(\"yolov8n.pt\") # use a pretrained model for custom training\n",
        "\n",
        "result = model.train(data=os.path.join(ROOT_DIR, \"data.yaml\"), epochs=100)"
      ]
    },
    {
      "cell_type": "markdown",
      "metadata": {
        "id": "bgF6PFA2cfyB"
      },
      "source": [
        "### Resutls:\n",
        "you can find the rsults in a folder called runs\n",
        "- In colab you can find it at the root directory\n",
        "- Locally can be found in the same directory as the python file"
      ]
    },
    {
      "cell_type": "markdown",
      "metadata": {
        "id": "i7F3EML0ilK1"
      },
      "source": [
        ">The following command is for google colab to copy the files to drive directory"
      ]
    },
    {
      "cell_type": "code",
      "execution_count": null,
      "metadata": {
        "id": "yUD3BLxIGYLh"
      },
      "outputs": [],
      "source": [
        "# !scp -r /content/runs  '/content/gdrive/MyDrive/Colab Notebooks/YOLO/Sample'"
      ]
    },
    {
      "cell_type": "markdown",
      "metadata": {
        "id": "r--LX5Tkfwpv"
      },
      "source": [
        "## Prediction\n",
        "\n",
        "- Just pass the path to the image you want to prdict as a parameter in the model."
      ]
    },
    {
      "cell_type": "code",
      "execution_count": null,
      "metadata": {
        "colab": {
          "base_uri": "https://localhost:8080/"
        },
        "id": "pipt9cMjQpuh",
        "outputId": "802b1be6-1eea-4b2b-8ce5-3998d602d1e4"
      },
      "outputs": [
        {
          "output_type": "stream",
          "name": "stdout",
          "text": [
            "\n",
            "image 1/1 /content/train/images/B (1).png: 448x640 1 person, 1 bottle, 2 beds, 49.6ms\n",
            "Speed: 2.5ms preprocess, 49.6ms inference, 1.7ms postprocess per image at shape (1, 3, 448, 640)\n",
            "--- prediction ---\n",
            "[629.4594116210938, 0.0, 706.0452270507812, 99.13330078125, 0.5410164594650269, 39.0]\n",
            "[337.02301025390625, 123.01031494140625, 1015.8882446289062, 692.4086303710938, 0.4733538329601288, 59.0]\n",
            "[2.1814005374908447, 158.7751007080078, 995.1865234375, 691.3002319335938, 0.4679763615131378, 59.0]\n",
            "[254.5225372314453, 130.01829528808594, 723.5728759765625, 519.2939453125, 0.3480892777442932, 0.0]\n"
          ]
        }
      ],
      "source": [
        "model_path = \"/content/yolo11n.pt\"\n",
        "\n",
        "# Load a model\n",
        "model = YOLO(model_path)  # load a custom model\n",
        "\n",
        "#threshold = 0.5\n",
        "\n",
        "results = model(\"/content/train/images/B (1).png\")[0]\n",
        "\n",
        "print(\"--- prediction ---\")\n",
        "\n",
        "for result in results.boxes.data.tolist():\n",
        "    x1, y1, x2, y2, score, class_id = result # this bounding box can be drawn on the original image\n",
        "    print(result)"
      ]
    },
    {
      "cell_type": "code",
      "execution_count": null,
      "metadata": {
        "id": "HnmlCSGXkYyA",
        "colab": {
          "base_uri": "https://localhost:8080/"
        },
        "outputId": "b54d3a6c-e0d9-4378-833d-d8304b56acc0"
      },
      "outputs": [
        {
          "output_type": "stream",
          "name": "stdout",
          "text": [
            "Ultralytics 8.3.140 🚀 Python-3.11.12 torch-2.6.0+cu124 CPU (Intel Xeon 2.30GHz)\n",
            "\n",
            "\u001b[34m\u001b[1mPyTorch:\u001b[0m starting from '/content/yolo11n.pt' with input shape (1, 3, 640, 640) BCHW and output shape(s) (1, 84, 8400) (5.4 MB)\n",
            "\n",
            "\u001b[34m\u001b[1mONNX:\u001b[0m starting export with onnx 1.17.0 opset 19...\n",
            "\u001b[34m\u001b[1mONNX:\u001b[0m slimming with onnxslim 0.1.53...\n",
            "\u001b[34m\u001b[1mONNX:\u001b[0m export success ✅ 2.2s, saved as '/content/yolo11n.onnx' (10.2 MB)\n",
            "\n",
            "Export complete (2.8s)\n",
            "Results saved to \u001b[1m/content\u001b[0m\n",
            "Predict:         yolo predict task=detect model=/content/yolo11n.onnx imgsz=640  \n",
            "Validate:        yolo val task=detect model=/content/yolo11n.onnx imgsz=640 data=/usr/src/ultralytics/ultralytics/cfg/datasets/coco.yaml  \n",
            "Visualize:       https://netron.app\n"
          ]
        }
      ],
      "source": [
        "# export the model\n",
        "success = model.export(format=\"onnx\") # export to ONNX format"
      ]
    },
    {
      "cell_type": "code",
      "source": [
        "!mv /content/data.yaml /content/drive/MyDrive"
      ],
      "metadata": {
        "id": "Le1Z6F83Hau2"
      },
      "execution_count": null,
      "outputs": []
    },
    {
      "cell_type": "code",
      "source": [],
      "metadata": {
        "id": "JC4QfKVuJjrw"
      },
      "execution_count": null,
      "outputs": []
    }
  ],
  "metadata": {
    "colab": {
      "provenance": [],
      "gpuType": "T4",
      "include_colab_link": true
    },
    "kernelspec": {
      "display_name": "Python 3",
      "name": "python3"
    },
    "language_info": {
      "name": "python",
      "version": "3.8.3"
    },
    "accelerator": "GPU"
  },
  "nbformat": 4,
  "nbformat_minor": 0
}